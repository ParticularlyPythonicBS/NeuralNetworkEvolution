{
 "cells": [
  {
   "cell_type": "code",
   "execution_count": 58,
   "metadata": {},
   "outputs": [],
   "source": [
    "import jax\n",
    "import jax.numpy as jnp\n",
    "import numpy as np\n",
    "import optax\n",
    "import equinox as eqx\n",
    "from jax import random\n",
    "from jax.random import PRNGKey, split\n",
    "from jax import jit, grad\n",
    "import matplotlib.pyplot as plt\n",
    "import matplotlib.cm as cm\n",
    "import matplotlib.colors as colors\n",
    "import matplotlib.style as mplstyle\n",
    "\n",
    "import seaborn as sns\n",
    "\n",
    "from mnist1d.data import make_dataset, get_dataset_args, get_templates\n"
   ]
  },
  {
   "cell_type": "code",
   "execution_count": 59,
   "metadata": {},
   "outputs": [],
   "source": [
    "plt.style.use('default')\n",
    "sns.set_theme(context='paper', style='white', palette='icefire', font='serif',\n",
    "            font_scale=1, color_codes=True, rc={'text.usetex' : True})\n",
    "mplstyle.use('fast')"
   ]
  },
  {
   "cell_type": "code",
   "execution_count": 60,
   "metadata": {},
   "outputs": [],
   "source": [
    "def plot_1dmnist(xs, t, labels=None, ratio=2.6, dark_mode=False, zoom=1):\n",
    "    rows, cols = 1, 10\n",
    "    fig = plt.figure(figsize=[cols*1.5,rows*1.5*ratio], dpi=60)\n",
    "    for r in range(rows):\n",
    "        for c in range(cols):\n",
    "            ix = r*cols + c\n",
    "            x, t = xs[ix], t\n",
    "            ax = plt.subplot(rows,cols,ix+1)\n",
    "\n",
    "            if dark_mode:\n",
    "                plt.plot(x, t, 'wo', linewidth=6)\n",
    "                ax.set_facecolor('k')\n",
    "            else:\n",
    "                plt.plot(x, t, 'k-', linewidth=2)\n",
    "            if labels is not None:\n",
    "                plt.title(\"label=\" + str(labels[ix]), fontsize=22)\n",
    "\n",
    "            plt.xlim(-zoom,zoom) ; plt.ylim(-zoom,zoom)\n",
    "            plt.gca().invert_yaxis() ; plt.xticks([], []), plt.yticks([], [])\n",
    "    plt.subplots_adjust(wspace=0, hspace=0)\n",
    "    plt.tight_layout() ; plt.show()\n",
    "    return fig"
   ]
  },
  {
   "cell_type": "code",
   "execution_count": 61,
   "metadata": {},
   "outputs": [],
   "source": [
    "# jax.config.update(\"jax_enable_x64\", True)\n",
    "# jax.config.update('jax_platform_name', 'cpu')"
   ]
  },
  {
   "cell_type": "code",
   "execution_count": 62,
   "metadata": {},
   "outputs": [],
   "source": [
    "class Model(eqx.Module):\n",
    "    layers: list\n",
    "\n",
    "    def __init__(self, layers):\n",
    "        self.layers = layers\n",
    "\n",
    "    def __call__(self, x):\n",
    "        for layer in self.layers[:-1]:\n",
    "            x = jax.nn.tanh(layer(x))\n",
    "        return self.layers[-1](x)"
   ]
  },
  {
   "cell_type": "code",
   "execution_count": 63,
   "metadata": {},
   "outputs": [],
   "source": [
    "def MLP(layer_sizes, key):\n",
    "    keys = split(key, len(layer_sizes) - 1)\n",
    "    layers = [\n",
    "        eqx.nn.Linear(in_size, out_size, key=k)\n",
    "        for in_size, out_size, k in zip(layer_sizes[:-1], layer_sizes[1:], keys)\n",
    "    ]\n",
    "    return Model(layers)"
   ]
  },
  {
   "cell_type": "code",
   "execution_count": 64,
   "metadata": {},
   "outputs": [],
   "source": [
    "@eqx.filter_jit()\n",
    "def cross_entropy(y, pred_y):\n",
    "    # y are the true targets, and should be integers 0-9.\n",
    "    # pred_y are the log-softmax'd predictions.\n",
    "    pred_y = jnp.take_along_axis(pred_y, jnp.expand_dims(y, 1), axis=1)\n",
    "    return -jnp.mean(pred_y)"
   ]
  },
  {
   "cell_type": "code",
   "execution_count": 65,
   "metadata": {},
   "outputs": [],
   "source": [
    "@eqx.filter_value_and_grad()\n",
    "def compute_loss(params, x, y):\n",
    "    pred_y = jax.nn.log_softmax(jax.vmap(params)(x))\n",
    "    loss = cross_entropy(y, pred_y)\n",
    "    return loss"
   ]
  },
  {
   "cell_type": "code",
   "execution_count": 66,
   "metadata": {},
   "outputs": [],
   "source": [
    "@eqx.filter_jit()\n",
    "def accuracy(mlp, x, y):\n",
    "    logits = jax.vmap(mlp)(x)\n",
    "    return jnp.mean(jnp.argmax(logits, axis=-1) == y)"
   ]
  },
  {
   "cell_type": "code",
   "execution_count": 67,
   "metadata": {},
   "outputs": [],
   "source": [
    "@eqx.filter_jit()\n",
    "def train_step(params, x, y, opt_state, opt_update):\n",
    "    loss, grads = compute_loss(params, x, y)\n",
    "    updates, opt_state = opt_update(grads, opt_state)\n",
    "    params = eqx.apply_updates(params, updates)\n",
    "    return loss, params, opt_state"
   ]
  },
  {
   "cell_type": "code",
   "execution_count": 68,
   "metadata": {},
   "outputs": [],
   "source": [
    "# Compute the gradient norm\n",
    "@eqx.filter_jit()\n",
    "def grad_norm(grads):\n",
    "    return jnp.sqrt(sum(jnp.sum(jnp.square(p)) for p in jax.tree_util.tree_leaves(grads)))\n"
   ]
  },
  {
   "cell_type": "code",
   "execution_count": 69,
   "metadata": {},
   "outputs": [],
   "source": [
    "input_size = 40\n",
    "hidden_sizes = [128, 128] \n",
    "output_size = 1\n",
    "num_epochs = 25000\n",
    "seed = 0\n",
    "threshold = 1e-4\n",
    "grad_norm_threshold = 1e-3\n",
    "n_samples = 20000\n",
    "test_size = 0.2\n",
    "learning_rate = 3e-4"
   ]
  },
  {
   "cell_type": "code",
   "execution_count": 70,
   "metadata": {},
   "outputs": [],
   "source": [
    "data_config = get_dataset_args()\n",
    "data_config.num_samples = n_samples\n",
    "data_config.shuffle_seq = True"
   ]
  },
  {
   "cell_type": "code",
   "execution_count": 71,
   "metadata": {},
   "outputs": [],
   "source": [
    "data = make_dataset(data_config)\n",
    "x_train, y_train = data[\"x\"], data[\"y\"]\n",
    "x_test, y_test = data[\"x_test\"], data[\"y_test\"]\n",
    "template = data[\"t\"]"
   ]
  },
  {
   "cell_type": "code",
   "execution_count": 72,
   "metadata": {},
   "outputs": [
    {
     "data": {
      "text/plain": [
       "((16000, 40), (16000,), (4000, 40), (4000,), (40,))"
      ]
     },
     "execution_count": 72,
     "metadata": {},
     "output_type": "execute_result"
    }
   ],
   "source": [
    "x_train.shape, y_train.shape, x_test.shape, y_test.shape, template.shape"
   ]
  },
  {
   "cell_type": "code",
   "execution_count": 73,
   "metadata": {},
   "outputs": [
    {
     "data": {
      "text/plain": [
       "(array([1613., 1598., 1597., 1614., 1571., 1589., 1597., 1602., 1600.,\n",
       "        1619.]),\n",
       " array([0. , 0.9, 1.8, 2.7, 3.6, 4.5, 5.4, 6.3, 7.2, 8.1, 9. ]),\n",
       " <BarContainer object of 10 artists>)"
      ]
     },
     "execution_count": 73,
     "metadata": {},
     "output_type": "execute_result"
    },
    {
     "data": {
      "image/png": "[encoded data removed]",
      "text/plain": [
       "<Figure size 640x480 with 1 Axes>"
      ]
     },
     "metadata": {},
     "output_type": "display_data"
    }
   ],
   "source": [
    "plt.hist(y_train, bins=10)"
   ]
  },
  {
   "cell_type": "code",
   "execution_count": 74,
   "metadata": {},
   "outputs": [
    {
     "name": "stdout",
     "output_type": "stream",
     "text": [
      "Templates for the MNIST-1D dataset:\n"
     ]
    },
    {
     "data": {
      "image/png": "[encoded data removed]",
      "text/plain": [
       "<Figure size 900x119.7 with 10 Axes>"
      ]
     },
     "metadata": {},
     "output_type": "display_data"
    }
   ],
   "source": [
    "templates = get_templates()\n",
    "print(\"Templates for the MNIST-1D dataset:\")\n",
    "x = templates['x']\n",
    "t = templates['t']\n",
    "y = templates['y']\n",
    "fig = plot_1dmnist(x, t, labels=y, ratio=1.33, dark_mode=False)"
   ]
  },
  {
   "cell_type": "code",
   "execution_count": 75,
   "metadata": {},
   "outputs": [],
   "source": [
    "# Main training function\n",
    "def train_mlp(num_epochs=1000, learning_rate=3e-4):\n",
    "    key = random.PRNGKey(0)\n",
    "    layer_sizes = [40, 128, 128, 10]  # Input layer, two hidden layers, and output layer\n",
    "    model = MLP(layer_sizes, key)\n",
    "    opt = optax.adam(learning_rate)\n",
    "    opt_state = opt.init(model)\n",
    "    train_loss_history = []\n",
    "    test_loss_history = []\n",
    "\n",
    "    # Training loop\n",
    "    for epoch in range(num_epochs):\n",
    "        loss, model, opt_state = train_step(model, x_train, y_train, opt_state, opt.update)\n",
    "        _, grads  = compute_loss(model, x_train, y_train)\n",
    "        grad_norm_val = grad_norm(grads)\n",
    "        train_loss_history.append(loss)\n",
    "        if (epoch + 1) % 100 == 0:\n",
    "            test_loss, _ = compute_loss(model, x_test, y_test)\n",
    "            test_loss_history.append(test_loss)\n",
    "            print(f'Epoch {epoch + 1}, Train Loss: {loss}, Test loss: {test_loss}, Grad norm: {grad_norm_val}')\n",
    "\n",
    "    return model, train_loss_history, test_loss_history\n"
   ]
  },
  {
   "cell_type": "code",
   "execution_count": 76,
   "metadata": {},
   "outputs": [
    {
     "name": "stdout",
     "output_type": "stream",
     "text": [
      "Epoch 100, Train Loss: 1.733960509300232, Test loss: 1.7504169940948486, Grad norm: 0.13787351548671722\n",
      "Epoch 200, Train Loss: 1.5976922512054443, Test loss: 1.6180731058120728, Grad norm: 0.08531560003757477\n",
      "Epoch 300, Train Loss: 1.457998514175415, Test loss: 1.4851343631744385, Grad norm: 0.10774200409650803\n",
      "Epoch 400, Train Loss: 1.2901606559753418, Test loss: 1.332070231437683, Grad norm: 0.09482383728027344\n",
      "Epoch 500, Train Loss: 1.138108730316162, Test loss: 1.1937354803085327, Grad norm: 0.0873638167977333\n",
      "Epoch 600, Train Loss: 0.9708073139190674, Test loss: 1.043796181678772, Grad norm: 0.08542805165052414\n",
      "Epoch 700, Train Loss: 0.8063138723373413, Test loss: 0.9021036624908447, Grad norm: 0.07540040463209152\n",
      "Epoch 800, Train Loss: 0.6756919622421265, Test loss: 0.7988535761833191, Grad norm: 0.06355087459087372\n",
      "Epoch 900, Train Loss: 0.5746826529502869, Test loss: 0.7271316647529602, Grad norm: 0.05437204986810684\n",
      "Epoch 1000, Train Loss: 0.494672566652298, Test loss: 0.6787474751472473, Grad norm: 0.04647978022694588\n",
      "Epoch 1100, Train Loss: 0.4301496148109436, Test loss: 0.6509315371513367, Grad norm: 0.04046952351927757\n",
      "Epoch 1200, Train Loss: 0.37744149565696716, Test loss: 0.6389342546463013, Grad norm: 0.036183420568704605\n",
      "Epoch 1300, Train Loss: 0.33335065841674805, Test loss: 0.6365703344345093, Grad norm: 0.03189072757959366\n",
      "Epoch 1400, Train Loss: 0.2952428162097931, Test loss: 0.6400442123413086, Grad norm: 0.028987452387809753\n",
      "Epoch 1500, Train Loss: 0.2613847255706787, Test loss: 0.6472352147102356, Grad norm: 0.027038278058171272\n",
      "Epoch 1600, Train Loss: 0.2307225912809372, Test loss: 0.6572858095169067, Grad norm: 0.024861959740519524\n",
      "Epoch 1700, Train Loss: 0.20284439623355865, Test loss: 0.6701058745384216, Grad norm: 0.023189811035990715\n",
      "Epoch 1800, Train Loss: 0.17750705778598785, Test loss: 0.6857859492301941, Grad norm: 0.022818125784397125\n",
      "Epoch 1900, Train Loss: 0.15456318855285645, Test loss: 0.7041419744491577, Grad norm: 0.02009914629161358\n",
      "Epoch 2000, Train Loss: 0.13387782871723175, Test loss: 0.7248856425285339, Grad norm: 0.018715182319283485\n",
      "Epoch 2100, Train Loss: 0.11539186537265778, Test loss: 0.7476038336753845, Grad norm: 0.01727347820997238\n",
      "Epoch 2200, Train Loss: 0.0990043506026268, Test loss: 0.7717699408531189, Grad norm: 0.015901759266853333\n",
      "Epoch 2300, Train Loss: 0.08467752486467361, Test loss: 0.7967671155929565, Grad norm: 0.014554830268025398\n",
      "Epoch 2400, Train Loss: 0.07231052219867706, Test loss: 0.8221232891082764, Grad norm: 0.013250719755887985\n",
      "Epoch 2500, Train Loss: 0.06174694374203682, Test loss: 0.8475337028503418, Grad norm: 0.012007448822259903\n",
      "Epoch 2600, Train Loss: 0.05280048027634621, Test loss: 0.8727841973304749, Grad norm: 0.010838441550731659\n",
      "Epoch 2700, Train Loss: 0.04527347907423973, Test loss: 0.8976964354515076, Grad norm: 0.009754342027008533\n",
      "Epoch 2800, Train Loss: 0.0389670729637146, Test loss: 0.9221346974372864, Grad norm: 0.008763317950069904\n",
      "Epoch 2900, Train Loss: 0.03369024023413658, Test loss: 0.9459945559501648, Grad norm: 0.007869096472859383\n",
      "Epoch 3000, Train Loss: 0.029269404709339142, Test loss: 0.9691892266273499, Grad norm: 0.0070699481293559074\n",
      "Epoch 3100, Train Loss: 0.025554364547133446, Test loss: 0.9916558265686035, Grad norm: 0.006360088940709829\n",
      "Epoch 3200, Train Loss: 0.022419458255171776, Test loss: 1.0133616924285889, Grad norm: 0.005731553304940462\n",
      "Epoch 3300, Train Loss: 0.019761547446250916, Test loss: 1.0343048572540283, Grad norm: 0.005175684578716755\n",
      "Epoch 3400, Train Loss: 0.017496727406978607, Test loss: 1.054505467414856, Grad norm: 0.004684011917561293\n",
      "Epoch 3500, Train Loss: 0.01555696688592434, Test loss: 1.073999047279358, Grad norm: 0.004248668439686298\n",
      "Epoch 3600, Train Loss: 0.01388712227344513, Test loss: 1.0928281545639038, Grad norm: 0.0038625553715974092\n",
      "Epoch 3700, Train Loss: 0.012442415580153465, Test loss: 1.1110374927520752, Grad norm: 0.0035193925723433495\n",
      "Epoch 3800, Train Loss: 0.011186420917510986, Test loss: 1.1286704540252686, Grad norm: 0.003213687799870968\n",
      "Epoch 3900, Train Loss: 0.010089388117194176, Test loss: 1.145768404006958, Grad norm: 0.002940661506727338\n",
      "Epoch 4000, Train Loss: 0.009126930497586727, Test loss: 1.1623692512512207, Grad norm: 0.0026961935218423605\n",
      "Epoch 4100, Train Loss: 0.00827898271381855, Test loss: 1.1785085201263428, Grad norm: 0.002476723166182637\n",
      "Epoch 4200, Train Loss: 0.007528954651206732, Test loss: 1.1942192316055298, Grad norm: 0.0022791812662035227\n",
      "Epoch 4300, Train Loss: 0.006863053422421217, Test loss: 1.2095317840576172, Grad norm: 0.0021009419579058886\n",
      "Epoch 4400, Train Loss: 0.006269774399697781, Test loss: 1.224475383758545, Grad norm: 0.0019397159339860082\n",
      "Epoch 4500, Train Loss: 0.005739461164921522, Test loss: 1.2390762567520142, Grad norm: 0.0017935459036380053\n",
      "Epoch 4600, Train Loss: 0.005263971630483866, Test loss: 1.2533595561981201, Grad norm: 0.0016607228899374604\n",
      "Epoch 4700, Train Loss: 0.004836409352719784, Test loss: 1.2673486471176147, Grad norm: 0.0015397724928334355\n",
      "Epoch 4800, Train Loss: 0.00445091025903821, Test loss: 1.2810654640197754, Grad norm: 0.0014294058782979846\n",
      "Epoch 4900, Train Loss: 0.004102457780390978, Test loss: 1.294529914855957, Grad norm: 0.0013285112800076604\n",
      "Epoch 5000, Train Loss: 0.0037867410574108362, Test loss: 1.3077611923217773, Grad norm: 0.0012360968394204974\n",
      "Epoch 5100, Train Loss: 0.0035000487696379423, Test loss: 1.320776343345642, Grad norm: 0.0011513105127960443\n",
      "Epoch 5200, Train Loss: 0.0032391692511737347, Test loss: 1.3335914611816406, Grad norm: 0.0010733878007158637\n",
      "Epoch 5300, Train Loss: 0.003001310396939516, Test loss: 1.346221685409546, Grad norm: 0.0010016688611358404\n",
      "Epoch 5400, Train Loss: 0.0027840372640639544, Test loss: 1.3586804866790771, Grad norm: 0.0009355564834550023\n",
      "Epoch 5500, Train Loss: 0.0025852203834801912, Test loss: 1.370980978012085, Grad norm: 0.0008745301165618002\n",
      "Epoch 5600, Train Loss: 0.0024029926862567663, Test loss: 1.3831346035003662, Grad norm: 0.0008181223529390991\n",
      "Epoch 5700, Train Loss: 0.002235707128420472, Test loss: 1.3951523303985596, Grad norm: 0.0007659176480956376\n",
      "Epoch 5800, Train Loss: 0.002081911778077483, Test loss: 1.4070442914962769, Grad norm: 0.0007175452192313969\n",
      "Epoch 5900, Train Loss: 0.0019403196638450027, Test loss: 1.4188194274902344, Grad norm: 0.0006726724095642567\n",
      "Epoch 6000, Train Loss: 0.001809790264815092, Test loss: 1.4304863214492798, Grad norm: 0.0006310013122856617\n",
      "Epoch 6100, Train Loss: 0.0016893063439056277, Test loss: 1.4420528411865234, Grad norm: 0.0005922650452703238\n",
      "Epoch 6200, Train Loss: 0.0015779633540660143, Test loss: 1.4535261392593384, Grad norm: 0.000556217273697257\n",
      "Epoch 6300, Train Loss: 0.0014749501133337617, Test loss: 1.46491277217865, Grad norm: 0.0005226464127190411\n",
      "Epoch 6400, Train Loss: 0.0013795396080240607, Test loss: 1.476218819618225, Grad norm: 0.0004913476877845824\n",
      "Epoch 6500, Train Loss: 0.0012910817749798298, Test loss: 1.4874500036239624, Grad norm: 0.00046214766916818917\n",
      "Epoch 6600, Train Loss: 0.0012089882511645555, Test loss: 1.4986108541488647, Grad norm: 0.00043488183291628957\n",
      "Epoch 6700, Train Loss: 0.0011327306274324656, Test loss: 1.5097063779830933, Grad norm: 0.0004094034666195512\n",
      "Epoch 6800, Train Loss: 0.0010618307860568166, Test loss: 1.520740270614624, Grad norm: 0.0003855750255752355\n",
      "Epoch 6900, Train Loss: 0.0009958589216694236, Test loss: 1.5317163467407227, Grad norm: 0.0003632785810623318\n",
      "Epoch 7000, Train Loss: 0.0009344193385913968, Test loss: 1.5426385402679443, Grad norm: 0.00034239597152918577\n",
      "Epoch 7100, Train Loss: 0.0008771608117967844, Test loss: 1.5535095930099487, Grad norm: 0.0003228289424441755\n",
      "Epoch 7200, Train Loss: 0.0008237576112151146, Test loss: 1.564332365989685, Grad norm: 0.00030448424513451755\n",
      "Epoch 7300, Train Loss: 0.0007739152060821652, Test loss: 1.5751093626022339, Grad norm: 0.00028727250173687935\n",
      "Epoch 7400, Train Loss: 0.0007273661904036999, Test loss: 1.5858430862426758, Grad norm: 0.0002711174020078033\n",
      "Epoch 7500, Train Loss: 0.0006838655099272728, Test loss: 1.5965356826782227, Grad norm: 0.00025594403268769383\n",
      "Epoch 7600, Train Loss: 0.0006431890069507062, Test loss: 1.6071895360946655, Grad norm: 0.00024168624076992273\n",
      "Epoch 7700, Train Loss: 0.0006051320233382285, Test loss: 1.6178057193756104, Grad norm: 0.0002282833302160725\n",
      "Epoch 7800, Train Loss: 0.000569505151361227, Test loss: 1.6283868551254272, Grad norm: 0.00021567792282439768\n",
      "Epoch 7900, Train Loss: 0.0005361360381357372, Test loss: 1.6389338970184326, Grad norm: 0.0002038161619566381\n",
      "Epoch 8000, Train Loss: 0.000504866533447057, Test loss: 1.649448037147522, Grad norm: 0.00019265146693214774\n",
      "Epoch 8100, Train Loss: 0.00047555044875480235, Test loss: 1.659932017326355, Grad norm: 0.00018213702423963696\n",
      "Epoch 8200, Train Loss: 0.0004480535862967372, Test loss: 1.6703858375549316, Grad norm: 0.00017223137547262013\n",
      "Epoch 8300, Train Loss: 0.00042225129436701536, Test loss: 1.6808111667633057, Grad norm: 0.00016289691848214716\n",
      "Epoch 8400, Train Loss: 0.000398029456846416, Test loss: 1.6912089586257935, Grad norm: 0.00015409727348014712\n",
      "Epoch 8500, Train Loss: 0.0003752824559342116, Test loss: 1.7015804052352905, Grad norm: 0.00014579888375010341\n",
      "Epoch 8600, Train Loss: 0.0003539130266290158, Test loss: 1.7119264602661133, Grad norm: 0.0001379701279802248\n",
      "Epoch 8700, Train Loss: 0.00033382870606146753, Test loss: 1.7222479581832886, Grad norm: 0.00013058305194135755\n",
      "Epoch 8800, Train Loss: 0.0003149481490254402, Test loss: 1.732545256614685, Grad norm: 0.00012361227709334344\n",
      "Epoch 8900, Train Loss: 0.0002971918147522956, Test loss: 1.7428196668624878, Grad norm: 0.00011702901974786073\n",
      "Epoch 9000, Train Loss: 0.00028048810781911016, Test loss: 1.7530720233917236, Grad norm: 0.0001108128999476321\n",
      "Epoch 9100, Train Loss: 0.0002647693327162415, Test loss: 1.763301968574524, Grad norm: 0.00010494118032511324\n",
      "Epoch 9200, Train Loss: 0.00024997410946525633, Test loss: 1.7735105752944946, Grad norm: 9.939243318513036e-05\n",
      "Epoch 9300, Train Loss: 0.00023604439047630876, Test loss: 1.7836987972259521, Grad norm: 9.415041859028861e-05\n",
      "Epoch 9400, Train Loss: 0.00022292528592515737, Test loss: 1.793866753578186, Grad norm: 8.919470565160736e-05\n",
      "Epoch 9500, Train Loss: 0.000210567784961313, Test loss: 1.804013729095459, Grad norm: 8.450974564766511e-05\n",
      "Epoch 9600, Train Loss: 0.0001989241864066571, Test loss: 1.8141413927078247, Grad norm: 8.007988071767613e-05\n",
      "Epoch 9700, Train Loss: 0.00018794945208355784, Test loss: 1.8242501020431519, Grad norm: 7.588791777379811e-05\n",
      "Epoch 9800, Train Loss: 0.0001776048738975078, Test loss: 1.8343391418457031, Grad norm: 7.192528573796153e-05\n",
      "Epoch 9900, Train Loss: 0.0001678514527156949, Test loss: 1.8444081544876099, Grad norm: 6.817530811531469e-05\n",
      "Epoch 10000, Train Loss: 0.00015865240129642189, Test loss: 1.8544585704803467, Grad norm: 6.462645978899673e-05\n",
      "Epoch 10100, Train Loss: 0.00014997748075984418, Test loss: 1.864490270614624, Grad norm: 6.12685180385597e-05\n",
      "Epoch 10200, Train Loss: 0.0001417927269358188, Test loss: 1.874503493309021, Grad norm: 5.808932110085152e-05\n",
      "Epoch 10300, Train Loss: 0.0001340701273875311, Test loss: 1.8844971656799316, Grad norm: 5.508121830644086e-05\n",
      "Epoch 10400, Train Loss: 0.00012678158236667514, Test loss: 1.8944724798202515, Grad norm: 5.223144034971483e-05\n",
      "Epoch 10500, Train Loss: 0.00011990198981948197, Test loss: 1.9044283628463745, Grad norm: 4.9532591219758615e-05\n",
      "Epoch 10600, Train Loss: 0.000113407448225189, Test loss: 1.9143673181533813, Grad norm: 4.6977351303212345e-05\n",
      "Epoch 10700, Train Loss: 0.0001072747036232613, Test loss: 1.924288272857666, Grad norm: 4.45572986791376e-05\n",
      "Epoch 10800, Train Loss: 0.00010148459114134312, Test loss: 1.9341909885406494, Grad norm: 4.226501550874673e-05\n",
      "Epoch 10900, Train Loss: 9.601503552403301e-05, Test loss: 1.9440735578536987, Grad norm: 4.009291296824813e-05\n",
      "Epoch 11000, Train Loss: 9.08493748283945e-05, Test loss: 1.95393967628479, Grad norm: 3.8034748286008835e-05\n",
      "Epoch 11100, Train Loss: 8.596815314376727e-05, Test loss: 1.963788628578186, Grad norm: 3.6085020838072523e-05\n",
      "Epoch 11200, Train Loss: 8.135702228173614e-05, Test loss: 1.9736182689666748, Grad norm: 3.42365528922528e-05\n",
      "Epoch 11300, Train Loss: 7.699974958086386e-05, Test loss: 1.9834290742874146, Grad norm: 3.248552093282342e-05\n",
      "Epoch 11400, Train Loss: 7.288136112038046e-05, Test loss: 1.9932249784469604, Grad norm: 3.0825041903881356e-05\n",
      "Epoch 11500, Train Loss: 6.898887659190223e-05, Test loss: 2.003002166748047, Grad norm: 2.9251723390189e-05\n",
      "Epoch 11600, Train Loss: 6.530946848215535e-05, Test loss: 2.0127623081207275, Grad norm: 2.775973734969739e-05\n",
      "Epoch 11700, Train Loss: 6.183079676702619e-05, Test loss: 2.0225064754486084, Grad norm: 2.63454294326948e-05\n",
      "Epoch 11800, Train Loss: 5.854187475051731e-05, Test loss: 2.032230854034424, Grad norm: 2.5004423150676303e-05\n",
      "Epoch 11900, Train Loss: 5.543137012864463e-05, Test loss: 2.0419411659240723, Grad norm: 2.3732809495413676e-05\n",
      "Epoch 12000, Train Loss: 5.249035166343674e-05, Test loss: 2.051633596420288, Grad norm: 2.252774720545858e-05\n",
      "Epoch 12100, Train Loss: 4.9709018639987335e-05, Test loss: 2.061309576034546, Grad norm: 2.1383346393122338e-05\n",
      "Epoch 12200, Train Loss: 4.7077821363927796e-05, Test loss: 2.0709688663482666, Grad norm: 2.029859933827538e-05\n",
      "Epoch 12300, Train Loss: 4.4588494347408414e-05, Test loss: 2.0806119441986084, Grad norm: 1.9269724361947738e-05\n",
      "Epoch 12400, Train Loss: 4.2233998101437464e-05, Test loss: 2.0902392864227295, Grad norm: 1.8294205801794305e-05\n",
      "Epoch 12500, Train Loss: 4.000643821200356e-05, Test loss: 2.099853038787842, Grad norm: 1.7368032786180265e-05\n",
      "Epoch 12600, Train Loss: 3.7898298614891246e-05, Test loss: 2.109447479248047, Grad norm: 1.648948273214046e-05\n",
      "Epoch 12700, Train Loss: 3.5903925891034305e-05, Test loss: 2.119032859802246, Grad norm: 1.565688944538124e-05\n",
      "Epoch 12800, Train Loss: 3.401628782739863e-05, Test loss: 2.1286027431488037, Grad norm: 1.4865865523461252e-05\n",
      "Epoch 12900, Train Loss: 3.2229490898316726e-05, Test loss: 2.1381537914276123, Grad norm: 1.4116362763161305e-05\n",
      "Epoch 13000, Train Loss: 3.0538762075593695e-05, Test loss: 2.1476900577545166, Grad norm: 1.340468406851869e-05\n",
      "Epoch 13100, Train Loss: 2.8938555260538124e-05, Test loss: 2.157212972640991, Grad norm: 1.2729459740512539e-05\n",
      "Epoch 13200, Train Loss: 2.7423773644841276e-05, Test loss: 2.1667251586914062, Grad norm: 1.2088601579307579e-05\n",
      "Epoch 13300, Train Loss: 2.5989735149778426e-05, Test loss: 2.176218271255493, Grad norm: 1.1480699868116062e-05\n",
      "Epoch 13400, Train Loss: 2.4631210180814378e-05, Test loss: 2.185697317123413, Grad norm: 1.0903358088398818e-05\n",
      "Epoch 13500, Train Loss: 2.3346183297690004e-05, Test loss: 2.1951656341552734, Grad norm: 1.0355266567785293e-05\n",
      "Epoch 13600, Train Loss: 2.212925573985558e-05, Test loss: 2.2046167850494385, Grad norm: 9.836172466748394e-06\n",
      "Epoch 13700, Train Loss: 2.0976262021576986e-05, Test loss: 2.214049816131592, Grad norm: 9.342522389488295e-06\n",
      "Epoch 13800, Train Loss: 1.988425719900988e-05, Test loss: 2.22347092628479, Grad norm: 8.873307706380729e-06\n",
      "Epoch 13900, Train Loss: 1.884995617729146e-05, Test loss: 2.2328732013702393, Grad norm: 8.428783075942192e-06\n",
      "Epoch 14000, Train Loss: 1.787147812137846e-05, Test loss: 2.2422680854797363, Grad norm: 8.007238648133352e-06\n",
      "Epoch 14100, Train Loss: 1.6944155504461378e-05, Test loss: 2.2516393661499023, Grad norm: 7.606675808347063e-06\n",
      "Epoch 14200, Train Loss: 1.6065616364357993e-05, Test loss: 2.261000156402588, Grad norm: 7.22598406355246e-06\n",
      "Epoch 14300, Train Loss: 1.5233807971526403e-05, Test loss: 2.270357847213745, Grad norm: 6.8647773332486395e-06\n",
      "Epoch 14400, Train Loss: 1.4445201486523729e-05, Test loss: 2.2796831130981445, Grad norm: 6.521875548060052e-06\n",
      "Epoch 14500, Train Loss: 1.36989401653409e-05, Test loss: 2.289013624191284, Grad norm: 6.19667980572558e-06\n",
      "Epoch 14600, Train Loss: 1.2991507901460864e-05, Test loss: 2.2983102798461914, Grad norm: 5.887692168471403e-06\n",
      "Epoch 14700, Train Loss: 1.2321347639954183e-05, Test loss: 2.3075947761535645, Grad norm: 5.594519279839005e-06\n",
      "Epoch 14800, Train Loss: 1.1686433936120011e-05, Test loss: 2.316864013671875, Grad norm: 5.316001988830976e-06\n",
      "Epoch 14900, Train Loss: 1.1085335245297756e-05, Test loss: 2.3261232376098633, Grad norm: 5.05185516885831e-06\n",
      "Epoch 15000, Train Loss: 1.0514388122828677e-05, Test loss: 2.3353540897369385, Grad norm: 4.80026437799097e-06\n",
      "Epoch 15100, Train Loss: 9.97481129161315e-06, Test loss: 2.3445839881896973, Grad norm: 4.561733021546388e-06\n",
      "Epoch 15200, Train Loss: 9.463166861678474e-06, Test loss: 2.353799343109131, Grad norm: 4.335311132308561e-06\n",
      "Epoch 15300, Train Loss: 8.977687684819102e-06, Test loss: 2.3629989624023438, Grad norm: 4.1199764382326975e-06\n",
      "Epoch 15400, Train Loss: 8.517805326846428e-06, Test loss: 2.372170925140381, Grad norm: 3.915575689461548e-06\n",
      "Epoch 15500, Train Loss: 8.082561180344783e-06, Test loss: 2.3813130855560303, Grad norm: 3.7222916944301687e-06\n",
      "Epoch 15600, Train Loss: 7.670070772292092e-06, Test loss: 2.3904755115509033, Grad norm: 3.5383229715080233e-06\n",
      "Epoch 15700, Train Loss: 7.277799340954516e-06, Test loss: 2.3996059894561768, Grad norm: 3.3627641187194968e-06\n",
      "Epoch 15800, Train Loss: 6.906969701958587e-06, Test loss: 2.4086954593658447, Grad norm: 3.1964480058377376e-06\n",
      "Epoch 15900, Train Loss: 6.5552503656363115e-06, Test loss: 2.417785406112671, Grad norm: 3.0388700906769373e-06\n",
      "Epoch 16000, Train Loss: 6.2222161432146095e-06, Test loss: 2.426861524581909, Grad norm: 2.888849621740519e-06\n",
      "Epoch 16100, Train Loss: 5.906712431169581e-06, Test loss: 2.4359130859375, Grad norm: 2.747240614553448e-06\n",
      "Epoch 16200, Train Loss: 5.606653303402709e-06, Test loss: 2.444932699203491, Grad norm: 2.6115253604075406e-06\n",
      "Epoch 16300, Train Loss: 5.3225453484628815e-06, Test loss: 2.453956365585327, Grad norm: 2.48298510996392e-06\n",
      "Epoch 16400, Train Loss: 5.053144377598073e-06, Test loss: 2.4629902839660645, Grad norm: 2.360939106438309e-06\n",
      "Epoch 16500, Train Loss: 4.7976527639548294e-06, Test loss: 2.4719669818878174, Grad norm: 2.2449867174145766e-06\n",
      "Epoch 16600, Train Loss: 4.55616827821359e-06, Test loss: 2.4809038639068604, Grad norm: 2.1355465378292138e-06\n",
      "Epoch 16700, Train Loss: 4.325904228608124e-06, Test loss: 2.4898605346679688, Grad norm: 2.029780489465338e-06\n",
      "Epoch 16800, Train Loss: 4.10839447795297e-06, Test loss: 2.498770236968994, Grad norm: 1.9308001810713904e-06\n",
      "Epoch 16900, Train Loss: 3.902142907463713e-06, Test loss: 2.5076472759246826, Grad norm: 1.8363064100412885e-06\n",
      "Epoch 17000, Train Loss: 3.7065899505250854e-06, Test loss: 2.5164811611175537, Grad norm: 1.7465991959397797e-06\n",
      "Epoch 17100, Train Loss: 3.520893869790598e-06, Test loss: 2.5253186225891113, Grad norm: 1.6614586684227106e-06\n",
      "Epoch 17200, Train Loss: 3.344793640280841e-06, Test loss: 2.534126043319702, Grad norm: 1.5806264173079398e-06\n",
      "Epoch 17300, Train Loss: 3.1784461498318706e-06, Test loss: 2.5429606437683105, Grad norm: 1.504002170804597e-06\n",
      "Epoch 17400, Train Loss: 3.0193036764103454e-06, Test loss: 2.551724672317505, Grad norm: 1.4298399264589534e-06\n",
      "Epoch 17500, Train Loss: 2.8695035325654317e-06, Test loss: 2.5604968070983887, Grad norm: 1.3608798781206133e-06\n",
      "Epoch 17600, Train Loss: 2.727236051214277e-06, Test loss: 2.569214105606079, Grad norm: 1.2953371424373472e-06\n",
      "Epoch 17700, Train Loss: 2.5918825485859998e-06, Test loss: 2.5779287815093994, Grad norm: 1.2324833278398728e-06\n",
      "Epoch 17800, Train Loss: 2.463681312292465e-06, Test loss: 2.5866777896881104, Grad norm: 1.1729670177373919e-06\n",
      "Epoch 17900, Train Loss: 2.3425434392265743e-06, Test loss: 2.5953633785247803, Grad norm: 1.116954990720842e-06\n",
      "Epoch 18000, Train Loss: 2.226642891400843e-06, Test loss: 2.604018211364746, Grad norm: 1.062589262801339e-06\n",
      "Epoch 18100, Train Loss: 2.117179974447936e-06, Test loss: 2.612645149230957, Grad norm: 1.0111947403856902e-06\n",
      "Epoch 18200, Train Loss: 2.013580115090008e-06, Test loss: 2.621306896209717, Grad norm: 9.624932317819912e-07\n",
      "Epoch 18300, Train Loss: 1.9145625174132874e-06, Test loss: 2.6298487186431885, Grad norm: 9.16062788292038e-07\n",
      "Epoch 18400, Train Loss: 1.8212444956589025e-06, Test loss: 2.638376474380493, Grad norm: 8.720688811081345e-07\n",
      "Epoch 18500, Train Loss: 1.7330451100860955e-06, Test loss: 2.6469004154205322, Grad norm: 8.309031045428128e-07\n",
      "Epoch 18600, Train Loss: 1.6483697891089832e-06, Test loss: 2.655400514602661, Grad norm: 7.903693131083855e-07\n",
      "Epoch 18700, Train Loss: 1.5686115375501686e-06, Test loss: 2.6639254093170166, Grad norm: 7.530927632615203e-07\n",
      "Epoch 18800, Train Loss: 1.4929066765034804e-06, Test loss: 2.6723673343658447, Grad norm: 7.171154834395566e-07\n",
      "Epoch 18900, Train Loss: 1.4211801726560225e-06, Test loss: 2.680720567703247, Grad norm: 6.832967756054131e-07\n",
      "Epoch 19000, Train Loss: 1.3530896012525773e-06, Test loss: 2.6890206336975098, Grad norm: 6.506422778329579e-07\n",
      "Epoch 19100, Train Loss: 1.2877633253083332e-06, Test loss: 2.6973581314086914, Grad norm: 6.194060233610799e-07\n",
      "Epoch 19200, Train Loss: 1.2264973747733166e-06, Test loss: 2.7055368423461914, Grad norm: 5.903722808398015e-07\n",
      "Epoch 19300, Train Loss: 1.1677647080432507e-06, Test loss: 2.713855504989624, Grad norm: 5.615675604531134e-07\n",
      "Epoch 19400, Train Loss: 1.1125188166261069e-06, Test loss: 2.7220544815063477, Grad norm: 5.348862259779708e-07\n",
      "Epoch 19500, Train Loss: 1.0600742825772613e-06, Test loss: 2.730084180831909, Grad norm: 5.097654138808139e-07\n",
      "Epoch 19600, Train Loss: 1.0100587815031759e-06, Test loss: 2.738144636154175, Grad norm: 4.855881456933275e-07\n",
      "Epoch 19700, Train Loss: 9.628594170862925e-07, Test loss: 2.746194839477539, Grad norm: 4.6303608769449056e-07\n",
      "Epoch 19800, Train Loss: 9.180295137412031e-07, Test loss: 2.7542033195495605, Grad norm: 4.4161882328808133e-07\n",
      "Epoch 19900, Train Loss: 8.753526685723045e-07, Test loss: 2.7622804641723633, Grad norm: 4.2048100112879183e-07\n",
      "Epoch 20000, Train Loss: 8.344342177224462e-07, Test loss: 2.770146608352661, Grad norm: 4.0035558868112275e-07\n",
      "Epoch 20100, Train Loss: 7.967342980919057e-07, Test loss: 2.7781119346618652, Grad norm: 3.825312262506486e-07\n",
      "Epoch 20200, Train Loss: 7.599136324643041e-07, Test loss: 2.7858760356903076, Grad norm: 3.6402144587555085e-07\n",
      "Epoch 20300, Train Loss: 7.251940132846357e-07, Test loss: 2.793691873550415, Grad norm: 3.474428638128302e-07\n",
      "Epoch 20400, Train Loss: 6.922475677129114e-07, Test loss: 2.801290512084961, Grad norm: 3.3216835504390474e-07\n",
      "Epoch 20500, Train Loss: 6.612011134166096e-07, Test loss: 2.8091111183166504, Grad norm: 3.172024491959746e-07\n",
      "Epoch 20600, Train Loss: 6.311083211585355e-07, Test loss: 2.8166732788085938, Grad norm: 3.016339462647011e-07\n",
      "Epoch 20700, Train Loss: 6.027886456649867e-07, Test loss: 2.824153423309326, Grad norm: 2.9194592343628756e-07\n",
      "Epoch 20800, Train Loss: 5.763392323387961e-07, Test loss: 2.8315186500549316, Grad norm: 2.755197385795327e-07\n",
      "Epoch 20900, Train Loss: 5.511562335414055e-07, Test loss: 2.839181661605835, Grad norm: 2.6294108579349995e-07\n",
      "Epoch 21000, Train Loss: 5.263532898425183e-07, Test loss: 2.846467971801758, Grad norm: 2.5287178573307756e-07\n",
      "Epoch 21100, Train Loss: 5.035099093220197e-07, Test loss: 2.8539230823516846, Grad norm: 2.401219774128549e-07\n",
      "Epoch 21200, Train Loss: 4.819330570171587e-07, Test loss: 2.860966920852661, Grad norm: 2.2912016106602096e-07\n",
      "Epoch 21300, Train Loss: 4.6179411583580077e-07, Test loss: 2.8682034015655518, Grad norm: 2.197426596239893e-07\n",
      "Epoch 21400, Train Loss: 4.4131996901342063e-07, Test loss: 2.875241279602051, Grad norm: 2.092039892431785e-07\n",
      "Epoch 21500, Train Loss: 4.223805945002823e-07, Test loss: 2.8826093673706055, Grad norm: 2.0262937994175445e-07\n",
      "Epoch 21600, Train Loss: 4.043353385441151e-07, Test loss: 2.889751672744751, Grad norm: 1.912097076228747e-07\n",
      "Epoch 21700, Train Loss: 3.871095941576641e-07, Test loss: 2.8972599506378174, Grad norm: 1.8480673702470085e-07\n",
      "Epoch 21800, Train Loss: 3.706289248839312e-07, Test loss: 2.9042623043060303, Grad norm: 1.7688968512175052e-07\n",
      "Epoch 21900, Train Loss: 3.5502745276971837e-07, Test loss: 2.9113571643829346, Grad norm: 1.6859074492003856e-07\n",
      "Epoch 22000, Train Loss: 3.4081921285178396e-07, Test loss: 2.918531656265259, Grad norm: 1.7071164393200888e-07\n",
      "Epoch 22100, Train Loss: 3.267674060225545e-07, Test loss: 2.9252991676330566, Grad norm: 1.552069477384066e-07\n",
      "Epoch 22200, Train Loss: 3.1353516760646016e-07, Test loss: 2.9319772720336914, Grad norm: 1.627157502070986e-07\n",
      "Epoch 22300, Train Loss: 3.0042221510484524e-07, Test loss: 2.938781499862671, Grad norm: 1.494310026828316e-07\n",
      "Epoch 22400, Train Loss: 2.877636688936036e-07, Test loss: 2.94539475440979, Grad norm: 1.5049637624997558e-07\n",
      "Epoch 22500, Train Loss: 2.7643878297567426e-07, Test loss: 2.9524712562561035, Grad norm: 1.3166859957891575e-07\n",
      "Epoch 22600, Train Loss: 2.654193735907029e-07, Test loss: 2.959414482116699, Grad norm: 1.337454875738331e-07\n",
      "Epoch 22700, Train Loss: 2.5452663976466283e-07, Test loss: 2.965853691101074, Grad norm: 1.2225990531078423e-07\n",
      "Epoch 22800, Train Loss: 2.4443855295430694e-07, Test loss: 2.9721972942352295, Grad norm: 1.2012287697871216e-07\n",
      "Epoch 22900, Train Loss: 2.349167260717877e-07, Test loss: 2.9786295890808105, Grad norm: 1.2550141548217653e-07\n",
      "Epoch 23000, Train Loss: 2.256631148611632e-07, Test loss: 2.9853601455688477, Grad norm: 1.1223770712831538e-07\n",
      "Epoch 23100, Train Loss: 2.1693850271731208e-07, Test loss: 2.9921233654022217, Grad norm: 1.0637947411851201e-07\n",
      "Epoch 23200, Train Loss: 2.0808721501452965e-07, Test loss: 2.9987881183624268, Grad norm: 1.0228233549014476e-07\n",
      "Epoch 23300, Train Loss: 1.9990648070233874e-07, Test loss: 3.0053391456604004, Grad norm: 9.779296306078322e-08\n",
      "Epoch 23400, Train Loss: 1.9244845361754415e-07, Test loss: 3.011526107788086, Grad norm: 1.0192932364816443e-07\n",
      "Epoch 23500, Train Loss: 1.8483395081148046e-07, Test loss: 3.017894744873047, Grad norm: 9.743407503037815e-08\n",
      "Epoch 23600, Train Loss: 1.781433383030162e-07, Test loss: 3.0243585109710693, Grad norm: 1.0226401059298951e-07\n",
      "Epoch 23700, Train Loss: 1.714974473543407e-07, Test loss: 3.0305631160736084, Grad norm: 1.490886631927424e-07\n",
      "Epoch 23800, Train Loss: 1.6490368182076054e-07, Test loss: 3.0365333557128906, Grad norm: 8.588143174392826e-08\n",
      "Epoch 23900, Train Loss: 1.5887616200416232e-07, Test loss: 3.042349100112915, Grad norm: 1.2968122575784946e-07\n",
      "Epoch 24000, Train Loss: 1.5298275002351147e-07, Test loss: 3.0484588146209717, Grad norm: 8.611959145810033e-08\n",
      "Epoch 24100, Train Loss: 1.4760342992303777e-07, Test loss: 3.0540294647216797, Grad norm: 1.2105414270990877e-07\n",
      "Epoch 24200, Train Loss: 1.422166633346933e-07, Test loss: 3.059563398361206, Grad norm: 9.577541959515656e-08\n",
      "Epoch 24300, Train Loss: 1.3705340506930952e-07, Test loss: 3.0654354095458984, Grad norm: 1.0357014446071844e-07\n",
      "Epoch 24400, Train Loss: 1.3294813072661782e-07, Test loss: 3.071259021759033, Grad norm: 1.1495922080939636e-07\n",
      "Epoch 24500, Train Loss: 1.280754560184505e-07, Test loss: 3.0764880180358887, Grad norm: 9.95868276731926e-08\n",
      "Epoch 24600, Train Loss: 1.2359021184238372e-07, Test loss: 3.082104206085205, Grad norm: 1.0051861210058632e-07\n",
      "Epoch 24700, Train Loss: 1.1917201447886328e-07, Test loss: 3.0878219604492188, Grad norm: 8.747438329237411e-08\n",
      "Epoch 24800, Train Loss: 1.1532751642562289e-07, Test loss: 3.0932517051696777, Grad norm: 8.79628956340639e-08\n",
      "Epoch 24900, Train Loss: 1.1143087164100507e-07, Test loss: 3.0985958576202393, Grad norm: 9.526380750912722e-08\n",
      "Epoch 25000, Train Loss: 1.0784714277178864e-07, Test loss: 3.1040539741516113, Grad norm: 1.1577390068850946e-07\n"
     ]
    }
   ],
   "source": [
    "model, train_loss_history, test_loss_history = train_mlp(num_epochs=25000)\n",
    "n_nodes = model.layers[0].in_features + sum([layer.out_features for layer in model.layers]) \n",
    "node_history = [n_nodes] * len(train_loss_history)"
   ]
  },
  {
   "cell_type": "code",
   "execution_count": 77,
   "metadata": {},
   "outputs": [
    {
     "data": {
      "image/png": "[encoded data removed]",
      "text/plain": [
       "<Figure size 1200x800 with 2 Axes>"
      ]
     },
     "metadata": {},
     "output_type": "display_data"
    }
   ],
   "source": [
    "fig, ax1 = plt.subplots(figsize=(12, 8))\n",
    "num_epochs = len(train_loss_history)\n",
    "color = 'tab:red'\n",
    "ax1.set_xlabel('Epochs')\n",
    "ax1.set_ylabel('Loss', color=color)\n",
    "ax1.plot(np.arange(0,num_epochs), train_loss_history, color=color)\n",
    "ax1.plot(np.arange(0,num_epochs,100), test_loss_history, color='tab:green')\n",
    "ax1.tick_params(axis='y', labelcolor=color)\n",
    "ax1.set_yscale(\"log\")\n",
    "\n",
    "ax2 = ax1.twinx()  # instantiate a second axes that shares the same x-axis\n",
    "\n",
    "color = 'tab:blue'\n",
    "ax2.set_ylabel('Number of Nodes', color=color)  # we already handled the x-label with ax1\n",
    "ax2.plot(np.arange(0,num_epochs), node_history, color=color)\n",
    "ax2.tick_params(axis='y', labelcolor=color)\n",
    "plt.suptitle(\"Training a conventional fully connected neural network\")\n",
    "fig.tight_layout()"
   ]
  },
  {
   "cell_type": "code",
   "execution_count": 78,
   "metadata": {},
   "outputs": [],
   "source": [
    "logits = jax.vmap(model)(x_test)\n",
    "acc = jnp.mean(jnp.argmax(logits, axis=-1) == y_test)"
   ]
  },
  {
   "cell_type": "code",
   "execution_count": 79,
   "metadata": {},
   "outputs": [
    {
     "data": {
      "text/plain": [
       "Array(0.75900006, dtype=float32)"
      ]
     },
     "execution_count": 79,
     "metadata": {},
     "output_type": "execute_result"
    }
   ],
   "source": [
    "acc"
   ]
  }
 ],
 "metadata": {
  "kernelspec": {
   "display_name": "python3",
   "language": "python",
   "name": "python3"
  },
  "language_info": {
   "codemirror_mode": {
    "name": "ipython",
    "version": 3
   },
   "file_extension": ".py",
   "mimetype": "text/x-python",
   "name": "python",
   "nbconvert_exporter": "python",
   "pygments_lexer": "ipython3",
   "version": "3.12.3"
  }
 },
 "nbformat": 4,
 "nbformat_minor": 2
}
