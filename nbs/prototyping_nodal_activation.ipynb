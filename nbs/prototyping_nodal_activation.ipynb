{
 "cells": [
  {
   "cell_type": "code",
   "execution_count": null,
   "metadata": {},
   "outputs": [],
   "source": [
    "import jax\n",
    "import numpy as np\n",
    "import jax.numpy as jnp\n",
    "import equinox as eqx\n",
    "import optax\n",
    "\n",
    "import matplotlib.pyplot as plt\n",
    "import matplotlib.cm as cm\n",
    "import matplotlib.colors as colors\n",
    "import matplotlib.style as mplstyle\n",
    "\n",
    "import seaborn as sns"
   ]
  },
  {
   "cell_type": "code",
   "execution_count": null,
   "metadata": {},
   "outputs": [],
   "source": [
    "plt.style.use('default')\n",
    "sns.set_theme(context='paper', style='white', palette='icefire', font='serif',\n",
    "            font_scale=2, color_codes=True, rc={'text.usetex' : True})\n",
    "mplstyle.use('fast')"
   ]
  },
  {
   "cell_type": "code",
   "execution_count": null,
   "metadata": {},
   "outputs": [],
   "source": [
    "class Neuron(eqx.Module):\n",
    "    weight: jax.Array\n",
    "    bias: jax.Array\n",
    "    activation: callable\n",
    "\n",
    "    def __init__(self, in_features, activation=jax.nn.relu, key=None):\n",
    "        if key is None:\n",
    "            key = jax.random.PRNGKey(0)\n",
    "            key, _ = jax.random.split(key)\n",
    "        w_key, b_key = jax.random.split(key)\n",
    "        self.weight = jax.random.normal(w_key, (in_features,))\n",
    "        self.bias = jax.random.normal(b_key, ())\n",
    "\n",
    "        self.activation = activation\n",
    "\n",
    "    def __call__(self, x):\n",
    "        return self.activation(jnp.dot(self.weight, x) + self.bias)\n"
   ]
  },
  {
   "cell_type": "code",
   "execution_count": null,
   "metadata": {},
   "outputs": [],
   "source": [
    "def identity(x):\n",
    "    return x\n"
   ]
  },
  {
   "cell_type": "code",
   "execution_count": null,
   "metadata": {},
   "outputs": [],
   "source": [
    "class CustomMLP(eqx.Module):\n",
    "    layers: list\n",
    "\n",
    "    def __init__(self, input_size, hidden_sizes, output_size, key=None):\n",
    "        if key is None:\n",
    "            key = jax.random.PRNGKey(0)\n",
    "        keys = jax.random.split(key, len(hidden_sizes) + 1)\n",
    "\n",
    "        layers = []\n",
    "        in_features = input_size\n",
    "\n",
    "        # Create hidden layers\n",
    "        for i, out_features in enumerate(hidden_sizes):\n",
    "            layer = [Neuron(in_features, jax.nn.relu, key=keys[i]) for _ in range(out_features)]\n",
    "            layers.append(layer)\n",
    "            in_features = out_features\n",
    "\n",
    "        # Create output layer\n",
    "        output_layer = [Neuron(in_features, activation=identity, key=keys[-1]) for _ in range(output_size)]\n",
    "        layers.append(output_layer)\n",
    "\n",
    "        self.layers = layers\n",
    "\n",
    "    def __call__(self, x):\n",
    "        for layer in self.layers:\n",
    "            x = jnp.array([neuron(x) for neuron in layer])\n",
    "        return x[0]  # Since output layer is a single neuron\n",
    "\n",
    "    def add_neuron(self, layer_index, activation=jax.nn.relu, key=None):\n",
    "        if key is None:\n",
    "            key = jax.random.PRNGKey(0)\n",
    "        in_features = self.layers[layer_index][0].weight.shape[0]\n",
    "        new_neuron = Neuron(in_features, activation, key)\n",
    "        self.layers[layer_index].append(new_neuron)\n",
    "\n",
    "        # Adjust the next layer's weight matrix to include the new neuron\n",
    "        if layer_index + 1 < len(self.layers):\n",
    "            for i, next_neuron in enumerate(self.layers[layer_index + 1]):\n",
    "                new_weight = jax.random.normal(key, (1,))\n",
    "                updated_weights = jnp.append(next_neuron.weight, new_weight)\n",
    "                self.layers[layer_index + 1][i] = eqx.tree_at(lambda n: n.weight, next_neuron, updated_weights)\n",
    "\n",
    "    def remove_neuron(self, layer_index, neuron_index):\n",
    "        if len(self.layers[layer_index]) > 0:\n",
    "            del self.layers[layer_index][neuron_index]\n",
    "        \n",
    "        # Adjust the next layer's weight matrix to remove the corresponding weight\n",
    "        if layer_index + 1 < len(self.layers):\n",
    "            for i, next_neuron in enumerate(self.layers[layer_index + 1]):\n",
    "                updated_weights = jnp.delete(next_neuron.weight, neuron_index)\n",
    "                self.layers[layer_index + 1][i] = eqx.tree_at(lambda n: n.weight, next_neuron, updated_weights)\n",
    "    \n",
    "    def get_shape(self):\n",
    "        return [len(layer) for layer in self.layers]\n"
   ]
  },
  {
   "cell_type": "code",
   "execution_count": null,
   "metadata": {},
   "outputs": [],
   "source": [
    "def initialize_optimizer_state(mlp, optimizer):\n",
    "    return optimizer.init(eqx.filter(mlp, eqx.is_inexact_array))\n"
   ]
  },
  {
   "cell_type": "code",
   "execution_count": null,
   "metadata": {},
   "outputs": [],
   "source": [
    "\n",
    "input_size = 3\n",
    "hidden_sizes = [4, 5]  # Two hidden layers with 4 and 5 neurons respectively\n",
    "output_size = 1\n",
    "\n",
    "key = jax.random.PRNGKey(42)\n",
    "mlp = CustomMLP(input_size, hidden_sizes, output_size, key)\n",
    "opt = optax.adam(learning_rate=1e-2)\n",
    "opt_state = initialize_optimizer_state(mlp, opt)\n"
   ]
  },
  {
   "cell_type": "code",
   "execution_count": null,
   "metadata": {},
   "outputs": [
    {
     "data": {
      "text/plain": [
       "[4, 5, 1]"
      ]
     },
     "execution_count": null,
     "metadata": {},
     "output_type": "execute_result"
    }
   ],
   "source": [
    "mlp.get_shape()"
   ]
  },
  {
   "cell_type": "code",
   "execution_count": null,
   "metadata": {},
   "outputs": [],
   "source": [
    "x = jnp.array([1.0, 2.0, 3.0])\n",
    "y = jnp.array([1.0])"
   ]
  },
  {
   "cell_type": "code",
   "execution_count": null,
   "metadata": {},
   "outputs": [],
   "source": [
    "@eqx.filter_value_and_grad()\n",
    "def compute_loss(mlp, x, y):\n",
    "    pred = mlp(x)\n",
    "    return jnp.mean((pred - y) ** 2)"
   ]
  },
  {
   "cell_type": "code",
   "execution_count": null,
   "metadata": {},
   "outputs": [],
   "source": [
    "@eqx.filter_jit()\n",
    "def train_step(mlp, x, y, opt_state, opt_update):\n",
    "    loss, grads = compute_loss(mlp, x, y)\n",
    "    updates, opt_state = opt_update(grads, opt_state)\n",
    "    mlp = eqx.apply_updates(mlp, updates)\n",
    "    return loss, mlp, opt_state"
   ]
  },
  {
   "cell_type": "code",
   "execution_count": null,
   "metadata": {},
   "outputs": [],
   "source": [
    "mlp = CustomMLP(input_size, hidden_sizes, output_size, key)"
   ]
  },
  {
   "cell_type": "code",
   "execution_count": null,
   "metadata": {},
   "outputs": [
    {
     "data": {
      "text/plain": [
       "Array(2, dtype=int32)"
      ]
     },
     "execution_count": null,
     "metadata": {},
     "output_type": "execute_result"
    }
   ],
   "source": [
    "activation_list = [jax.nn.relu, jax.nn.sigmoid, jax.nn.tanh]\n",
    "jax.random.choice(key, jnp.arange(len(activation_list)))"
   ]
  },
  {
   "cell_type": "code",
   "execution_count": null,
   "metadata": {},
   "outputs": [],
   "source": [
    "activation_list = [jax.nn.relu, jax.nn.sigmoid, jax.nn.tanh]\n",
    "num_epochs = 100\n",
    "add_node_every = 1\n",
    "remove_node_every = 1\n",
    "Loss_history = []\n",
    "Node_history = []"
   ]
  },
  {
   "cell_type": "code",
   "execution_count": null,
   "metadata": {},
   "outputs": [
    {
     "data": {
      "text/plain": [
       "4"
      ]
     },
     "execution_count": null,
     "metadata": {},
     "output_type": "execute_result"
    }
   ],
   "source": [
    "len(mlp.layers[0])"
   ]
  },
  {
   "cell_type": "code",
   "execution_count": null,
   "metadata": {},
   "outputs": [
    {
     "name": "stdout",
     "output_type": "stream",
     "text": [
      "Epoch 0, Prediction: -0.11493870615959167, Loss: 1.2654868364334106\n",
      "Epoch 1, Prediction: -0.1049412339925766, Loss: 1.2430883646011353\n",
      "Epoch 2, Prediction: -0.09494777023792267, Loss: 1.2208951711654663\n",
      "Epoch 3, Prediction: -0.08496008813381195, Loss: 1.1989107131958008\n",
      "Epoch 4, Prediction: -0.07497978210449219, Loss: 1.1771384477615356\n",
      "Epoch 5, Prediction: -0.0650084912776947, Loss: 1.1555814743041992\n",
      "Epoch 6, Prediction: -0.055047959089279175, Loss: 1.134243130683899\n",
      "Epoch 7, Prediction: -0.04509981349110603, Loss: 1.113126277923584\n",
      "Epoch 8, Prediction: -0.035165734589099884, Loss: 1.092233657836914\n",
      "Epoch 9, Prediction: -0.02524735778570175, Loss: 1.071568250656128\n",
      "Epoch 10, Prediction: -0.01534633245319128, Loss: 1.051132082939148\n",
      "Epoch 11, Prediction: -0.005464295856654644, Loss: 1.030928134918213\n",
      "Epoch 12, Prediction: 0.00439715851098299, Loss: 1.0109584331512451\n",
      "Epoch 13, Prediction: 0.01423643808811903, Loss: 0.991225004196167\n",
      "Epoch 14, Prediction: 0.02405199408531189, Loss: 0.9717297554016113\n",
      "Epoch 15, Prediction: 0.03384228050708771, Loss: 0.9524744749069214\n",
      "Epoch 16, Prediction: 0.04360580816864967, Loss: 0.9334607720375061\n",
      "Epoch 17, Prediction: 0.0533410906791687, Loss: 0.914689838886261\n",
      "Epoch 18, Prediction: 0.06304667890071869, Loss: 0.8961631059646606\n",
      "Epoch 19, Prediction: 0.07272117584943771, Loss: 0.8778815269470215\n",
      "Epoch 20, Prediction: 0.08236321806907654, Loss: 0.8598459959030151\n",
      "Epoch 21, Prediction: 0.09197147190570831, Loss: 0.8420572280883789\n",
      "Epoch 22, Prediction: 0.10154464095830917, Loss: 0.8245158195495605\n",
      "Epoch 23, Prediction: 0.11108146607875824, Loss: 0.8072220683097839\n",
      "Epoch 24, Prediction: 0.12058073282241821, Loss: 0.7901761531829834\n",
      "Epoch 25, Prediction: 0.13004127144813538, Loss: 0.7733782529830933\n",
      "Epoch 26, Prediction: 0.1394619345664978, Loss: 0.756828248500824\n",
      "Epoch 27, Prediction: 0.14884163439273834, Loss: 0.7405257821083069\n",
      "Epoch 28, Prediction: 0.15817931294441223, Loss: 0.7244706153869629\n",
      "Epoch 29, Prediction: 0.1674739420413971, Loss: 0.7086620926856995\n",
      "Epoch 30, Prediction: 0.17672453820705414, Loss: 0.6930996775627136\n",
      "Epoch 31, Prediction: 0.18593016266822815, Loss: 0.6777824759483337\n",
      "Epoch 32, Prediction: 0.1950899213552475, Loss: 0.6627097725868225\n",
      "Epoch 33, Prediction: 0.20420295000076294, Loss: 0.6478801965713501\n",
      "Epoch 34, Prediction: 0.21326841413974762, Loss: 0.6332929730415344\n",
      "Epoch 35, Prediction: 0.22228550910949707, Loss: 0.6189466118812561\n",
      "Removed neuron from hidden layer 1 at index 2\n",
      "[3, 5, 1]\n",
      "Epoch 36, Prediction: 0.2312534898519516, Loss: 0.6048398017883301\n",
      "Added neuron to hidden layer 1 with activation tanh\n",
      "[3, 6, 1]\n",
      "Epoch 37, Prediction: 0.6182352900505066, Loss: 0.5909711718559265\n",
      "Epoch 38, Prediction: 0.6379708051681519, Loss: 0.14574429392814636\n",
      "Epoch 39, Prediction: 0.6577293276786804, Loss: 0.13106514513492584\n",
      "Epoch 40, Prediction: 0.6774848103523254, Loss: 0.11714921146631241\n",
      "Epoch 41, Prediction: 0.6972076892852783, Loss: 0.10401605069637299\n",
      "Added neuron to hidden layer 2 with activation sigmoid\n",
      "[3, 7, 1]\n",
      "Epoch 42, Prediction: 0.003319352865219116, Loss: 0.09168318659067154\n",
      "Epoch 43, Prediction: 0.03133648633956909, Loss: 0.9933722615242004\n",
      "Epoch 44, Prediction: 0.05931580066680908, Loss: 0.9383090138435364\n",
      "Epoch 45, Prediction: 0.08723914623260498, Loss: 0.8848867416381836\n",
      "Epoch 46, Prediction: 0.11508709192276001, Loss: 0.8331323862075806\n",
      "Epoch 47, Prediction: 0.14284053444862366, Loss: 0.7830708622932434\n",
      "Epoch 48, Prediction: 0.17047938704490662, Loss: 0.734722375869751\n",
      "Epoch 49, Prediction: 0.19798287749290466, Loss: 0.6881043910980225\n",
      "Epoch 50, Prediction: 0.22533056139945984, Loss: 0.6432313919067383\n",
      "Epoch 51, Prediction: 0.25250089168548584, Loss: 0.6001126766204834\n",
      "Epoch 52, Prediction: 0.27947235107421875, Loss: 0.5587549209594727\n",
      "Epoch 53, Prediction: 0.3062233328819275, Loss: 0.5191600918769836\n",
      "Epoch 54, Prediction: 0.33273178339004517, Loss: 0.48132607340812683\n",
      "Epoch 55, Prediction: 0.3589756190776825, Loss: 0.4452468752861023\n",
      "Epoch 56, Prediction: 0.38493290543556213, Loss: 0.4109122157096863\n",
      "Epoch 57, Prediction: 0.4105813503265381, Loss: 0.378307580947876\n",
      "Epoch 58, Prediction: 0.43589910864830017, Loss: 0.3474143445491791\n",
      "Epoch 59, Prediction: 0.4608646631240845, Loss: 0.31820976734161377\n",
      "Epoch 60, Prediction: 0.48545610904693604, Loss: 0.2906669080257416\n",
      "Epoch 61, Prediction: 0.5096524357795715, Loss: 0.2647554278373718\n",
      "Epoch 62, Prediction: 0.5334328413009644, Loss: 0.2404407411813736\n",
      "Epoch 63, Prediction: 0.5567772388458252, Loss: 0.21768490970134735\n",
      "Epoch 64, Prediction: 0.5796656012535095, Loss: 0.19644641876220703\n",
      "Epoch 65, Prediction: 0.6020789742469788, Loss: 0.1766810119152069\n",
      "Epoch 66, Prediction: 0.6239991188049316, Loss: 0.15834113955497742\n",
      "Epoch 67, Prediction: 0.645408570766449, Loss: 0.14137665927410126\n",
      "Epoch 68, Prediction: 0.6662907004356384, Loss: 0.1257350742816925\n",
      "Epoch 69, Prediction: 0.686629593372345, Loss: 0.11136189848184586\n",
      "Epoch 70, Prediction: 0.7064109444618225, Loss: 0.09820101410150528\n",
      "Epoch 71, Prediction: 0.7256211042404175, Loss: 0.08619453012943268\n",
      "Epoch 72, Prediction: 0.7442476153373718, Loss: 0.07528378069400787\n",
      "Epoch 73, Prediction: 0.7622795701026917, Loss: 0.06540928035974503\n",
      "Epoch 74, Prediction: 0.779707133769989, Loss: 0.05651100352406502\n",
      "Epoch 75, Prediction: 0.7965214252471924, Loss: 0.048528946936130524\n",
      "Epoch 76, Prediction: 0.8127155303955078, Loss: 0.04140353202819824\n",
      "Epoch 77, Prediction: 0.8282838463783264, Loss: 0.03507547080516815\n",
      "Epoch 78, Prediction: 0.84322190284729, Loss: 0.029486438259482384\n",
      "Epoch 79, Prediction: 0.8575271368026733, Loss: 0.024579372256994247\n",
      "Epoch 80, Prediction: 0.8711978197097778, Loss: 0.020298516377806664\n",
      "Epoch 81, Prediction: 0.884234607219696, Loss: 0.016590001061558723\n",
      "Epoch 82, Prediction: 0.8966387510299683, Loss: 0.013401626609265804\n",
      "Epoch 83, Prediction: 0.9084135293960571, Loss: 0.010683547705411911\n",
      "Epoch 84, Prediction: 0.9195637106895447, Loss: 0.008388081565499306\n",
      "Epoch 85, Prediction: 0.930094838142395, Loss: 0.0064699966460466385\n",
      "Epoch 86, Prediction: 0.9400147199630737, Loss: 0.004886731505393982\n",
      "Epoch 87, Prediction: 0.9493318796157837, Loss: 0.0035982339177280664\n",
      "Epoch 88, Prediction: 0.9580563306808472, Loss: 0.00256725843064487\n",
      "Epoch 89, Prediction: 0.9661992788314819, Loss: 0.0017592713702470064\n",
      "Epoch 90, Prediction: 0.9737734794616699, Loss: 0.0011424887925386429\n",
      "Epoch 91, Prediction: 0.9807916879653931, Loss: 0.0006878303829580545\n",
      "Epoch 92, Prediction: 0.9872692823410034, Loss: 0.0003689592413138598\n",
      "Added neuron to hidden layer 2 with activation tanh\n",
      "[3, 8, 1]\n",
      "Epoch 93, Prediction: 0.941216230392456, Loss: 0.00016207117005251348\n",
      "Epoch 94, Prediction: 0.9797472953796387, Loss: 0.0034555315505713224\n",
      "Epoch 95, Prediction: 1.0132739543914795, Loss: 0.0004101720405742526\n",
      "Epoch 96, Prediction: 1.0334687232971191, Loss: 0.00017619786376599222\n",
      "Epoch 97, Prediction: 1.0378795862197876, Loss: 0.00112015544436872\n",
      "Epoch 98, Prediction: 1.0315756797790527, Loss: 0.0014348630793392658\n",
      "Epoch 99, Prediction: 1.019351601600647, Loss: 0.0009970235405489802\n",
      "Final Prediction: 1.0193516\n"
     ]
    }
   ],
   "source": [
    "for epoch in range(num_epochs):\n",
    "    loss, mlp, opt_state = train_step(mlp, x, y, opt_state, opt.update)\n",
    "    key, add_key, sub_key = jax.random.split(key,3)\n",
    "    n_neurons = sum(mlp.get_shape())\n",
    "    Loss_history.append(loss)\n",
    "    Node_history.append(n_neurons)\n",
    "\n",
    "    # Dynamically add or remove neurons\n",
    "    if (epoch + 1) % add_node_every == 0 and jax.random.uniform(add_key) < 0.05:\n",
    "        add_key, act_key = jax.random.split(add_key)\n",
    "        activation = activation_list[jax.random.choice(key, jnp.arange(len(activation_list)))]\n",
    "        layers = len(mlp.get_shape()) - 1\n",
    "        layer = jax.random.randint(act_key, (1,), 0, layers)[0]\n",
    "        mlp.add_neuron(layer_index=1, activation=activation, key=add_key)\n",
    "        opt_state = initialize_optimizer_state(mlp, opt)\n",
    "        print(f\"Added neuron to hidden layer {layer+1} with activation {activation.__name__}\")\n",
    "        print(mlp.get_shape())\n",
    "    \n",
    "    elif (epoch + 1) % remove_node_every == 0 and jax.random.uniform(sub_key) < 0.05:\n",
    "        layer_key, neuron_key, sub_key = jax.random.split(sub_key,3)\n",
    "        layers = len(mlp.get_shape()) - 1\n",
    "        layer = jax.random.randint(layer_key, (1,), 0, layers)[0]\n",
    "        layer_neurons = len(mlp.layers[layer])\n",
    "        neuron_idx = jax.random.randint(neuron_key, (1,), 0, layer_neurons)[0]\n",
    "        mlp.remove_neuron(layer_index=layer, neuron_index=neuron_idx)\n",
    "        opt_state = initialize_optimizer_state(mlp, opt)\n",
    "        print(f\"Removed neuron from hidden layer {layer+1} at index {neuron_idx}\")\n",
    "        print(mlp.get_shape())\n",
    "\n",
    "    print(f\"Epoch {epoch}, Prediction: {mlp(x)}, Loss: {loss}\")\n",
    "\n",
    "print(\"Final Prediction:\", mlp(x))"
   ]
  },
  {
   "cell_type": "code",
   "execution_count": null,
   "metadata": {},
   "outputs": [
    {
     "data": {
      "image/png": "[encoded data removed]",
      "text/plain": [
       "<Figure size 1000x600 with 2 Axes>"
      ]
     },
     "metadata": {},
     "output_type": "display_data"
    }
   ],
   "source": [
    "fig, ax1 = plt.subplots(figsize=(10, 6))\n",
    "\n",
    "color = 'tab:red'\n",
    "ax1.set_xlabel('Epochs')\n",
    "ax1.set_ylabel('Loss', color=color)\n",
    "ax1.plot(np.arange(0,num_epochs), Loss_history, color=color)\n",
    "ax1.tick_params(axis='y', labelcolor=color)\n",
    "ax1.set_yscale(\"log\")\n",
    "\n",
    "ax2 = ax1.twinx()  # instantiate a second axes that shares the same x-axis\n",
    "\n",
    "color = 'tab:blue'\n",
    "ax2.set_ylabel('Number of Nodes', color=color)  # we already handled the x-label with ax1\n",
    "ax2.plot(np.arange(0,num_epochs), Node_history, color=color)\n",
    "ax2.tick_params(axis='y', labelcolor=color)\n",
    "plt.suptitle(\"Training a Neural Network with Dynamic Node Addition and Removal\")\n",
    "fig.tight_layout()"
   ]
  },
  {
   "cell_type": "code",
   "execution_count": null,
   "metadata": {},
   "outputs": [],
   "source": []
  }
 ],
 "metadata": {
  "kernelspec": {
   "display_name": "python3",
   "language": "python",
   "name": "python3"
  }
 },
 "nbformat": 4,
 "nbformat_minor": 2
}
