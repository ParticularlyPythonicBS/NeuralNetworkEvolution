{
 "cells": [
  {
   "cell_type": "markdown",
   "metadata": {},
   "source": [
    "# Prototyping\n",
    "\n",
    "> Proof of concept exploration of backprop optimization through MLP with number of nodes varying during training."
   ]
  },
  {
   "cell_type": "code",
   "execution_count": null,
   "metadata": {},
   "outputs": [],
   "source": [
    "# | default_exp prototyping"
   ]
  },
  {
   "cell_type": "code",
   "execution_count": null,
   "metadata": {},
   "outputs": [],
   "source": [
    "# | export\n",
    "\n",
    "import jax\n",
    "import jax.numpy as jnp\n",
    "import optax\n",
    "import equinox as eqx\n",
    "from jax import random\n",
    "from jax.random import PRNGKey, split"
   ]
  },
  {
   "cell_type": "code",
   "execution_count": null,
   "metadata": {},
   "outputs": [],
   "source": [
    "# | export\n",
    "\n",
    "\n",
    "class Model(eqx.Module):\n",
    "    layers: list\n",
    "\n",
    "    def __init__(self, layers):\n",
    "        self.layers = layers\n",
    "\n",
    "    def __call__(self, x):\n",
    "        for layer in self.layers[:-1]:\n",
    "            x = jax.nn.relu(layer(x))\n",
    "        return self.layers[-1](x)"
   ]
  },
  {
   "cell_type": "code",
   "execution_count": null,
   "metadata": {},
   "outputs": [],
   "source": [
    "# | export\n",
    "\n",
    "\n",
    "def MLP(layer_sizes, key):\n",
    "    keys = split(key, len(layer_sizes) - 1)\n",
    "    layers = [\n",
    "        eqx.nn.Linear(in_size, out_size, key=k)\n",
    "        for in_size, out_size, k in zip(layer_sizes[:-1], layer_sizes[1:], keys)\n",
    "    ]\n",
    "    return Model(layers)"
   ]
  },
  {
   "cell_type": "code",
   "execution_count": null,
   "metadata": {},
   "outputs": [],
   "source": [
    "# | test\n",
    "\n",
    "\n",
    "def test_mlp_initialization():\n",
    "    key = random.PRNGKey(0)\n",
    "    layer_sizes = [2, 3, 1]\n",
    "    mlp = MLP(layer_sizes, key)\n",
    "    assert len(mlp.layers) == 2\n",
    "    assert mlp.layers[0].weight.shape == (3, 2)\n",
    "    assert mlp.layers[0].bias.shape == (3,)\n",
    "    assert mlp.layers[1].weight.shape == (1, 3)\n",
    "    assert mlp.layers[1].bias.shape == (1,)\n",
    "\n",
    "\n",
    "def test_mlp_forward_pass():\n",
    "    key = random.PRNGKey(0)\n",
    "    layer_sizes = [2, 3, 1]\n",
    "    mlp = MLP(layer_sizes, key)\n",
    "    x = jnp.array([[1.0, 2.0], [3.0, 4.0]])\n",
    "    y = jax.vmap(mlp)(x)\n",
    "    assert y.shape == (2, 1)"
   ]
  },
  {
   "cell_type": "code",
   "execution_count": null,
   "metadata": {},
   "outputs": [],
   "source": [
    "# | test\n",
    "test_mlp_initialization()"
   ]
  },
  {
   "cell_type": "code",
   "execution_count": null,
   "metadata": {},
   "outputs": [],
   "source": [
    "# | test\n",
    "test_mlp_forward_pass()"
   ]
  },
  {
   "cell_type": "code",
   "execution_count": null,
   "metadata": {},
   "outputs": [],
   "source": [
    "# | export\n",
    "# getters for pytree manipulation\n",
    "def where_weight(linear):\n",
    "    return linear.weight\n",
    "\n",
    "\n",
    "def where_bias(linear):\n",
    "    return linear.bias"
   ]
  },
  {
   "cell_type": "code",
   "execution_count": null,
   "metadata": {},
   "outputs": [],
   "source": [
    "# | export\n",
    "\n",
    "\n",
    "def add_node(mlp, key):\n",
    "    new_layers = []\n",
    "\n",
    "    # first layer\n",
    "    initial_layer = mlp.layers[0]\n",
    "    out_features, in_features = initial_layer.weight.shape\n",
    "    new_inital_shape = (out_features + 1, in_features)\n",
    "    new_initial_weight = jnp.resize(initial_layer.weight, new_inital_shape)\n",
    "    new_initial_bias = jnp.resize(initial_layer.bias, (new_inital_shape[0],))\n",
    "    new_initial_layer = eqx.nn.Linear(new_inital_shape[1], new_inital_shape[0], key=key)\n",
    "    new_initial_layer = eqx.tree_at(where_weight, new_initial_layer, new_initial_weight)\n",
    "    new_initial_layer = eqx.tree_at(where_bias, new_initial_layer, new_initial_bias)\n",
    "    new_layers.append(new_initial_layer)\n",
    "\n",
    "    # hidden layer(s)\n",
    "    for i, layer in enumerate(mlp.layers[1:-1]):\n",
    "        out_features, in_features = layer.weight.shape\n",
    "        new_shape = (out_features + 1, in_features + 1)\n",
    "        new_weight = jnp.resize(layer.weight, new_shape)\n",
    "        new_bias = jnp.resize(layer.bias, (new_shape[0],))\n",
    "        new_layer = eqx.nn.Linear(new_shape[1], new_shape[0], key=key)\n",
    "        new_layer = eqx.tree_at(where_weight, new_layer, new_weight)\n",
    "        new_layer = eqx.tree_at(where_bias, new_layer, new_bias)\n",
    "        new_layers.append(new_layer)\n",
    "\n",
    "    # final layer\n",
    "    final_layer = mlp.layers[-1]\n",
    "    out_features, in_features = final_layer.weight.shape\n",
    "    new_final_shape = (out_features, in_features + 1)\n",
    "    new_final_weight = jnp.resize(final_layer.weight, new_final_shape)\n",
    "    new_final_bias = jnp.resize(final_layer.bias, (new_final_shape[0],))\n",
    "    new_final_layer = eqx.nn.Linear(new_final_shape[1], new_final_shape[0], key=key)\n",
    "    new_final_layer = eqx.tree_at(where_weight, new_final_layer, new_final_weight)\n",
    "    new_final_layer = eqx.tree_at(where_bias, new_final_layer, new_final_bias)\n",
    "    new_layers.append(new_final_layer)\n",
    "\n",
    "    return Model(new_layers)"
   ]
  },
  {
   "cell_type": "code",
   "execution_count": null,
   "metadata": {},
   "outputs": [],
   "source": [
    "# | test\n",
    "def test_add_node():\n",
    "    key = random.PRNGKey(0)\n",
    "    layer_sizes = [2, 3, 1]\n",
    "    mlp = MLP(layer_sizes, key)\n",
    "    key, subkey = random.split(key)\n",
    "    new_mlp = add_node(mlp, subkey)\n",
    "    assert len(new_mlp.layers) == 2\n",
    "    assert new_mlp.layers[0].weight.shape == (4, 2)\n",
    "    assert new_mlp.layers[0].bias.shape == (4,)\n",
    "    assert new_mlp.layers[1].weight.shape == (1, 4)\n",
    "    assert new_mlp.layers[1].bias.shape == (1,)"
   ]
  },
  {
   "cell_type": "code",
   "execution_count": null,
   "metadata": {},
   "outputs": [],
   "source": [
    "# | test\n",
    "test_add_node()"
   ]
  },
  {
   "cell_type": "code",
   "execution_count": null,
   "metadata": {},
   "outputs": [],
   "source": [
    "# | export\n",
    "def remove_node(mlp, key):\n",
    "    new_layers = []\n",
    "\n",
    "    # first layer\n",
    "    initial_layer = mlp.layers[0]\n",
    "    out_features, in_features = initial_layer.weight.shape\n",
    "    new_inital_shape = (out_features - 1, in_features)\n",
    "    new_initial_weight = jnp.resize(initial_layer.weight, new_inital_shape)\n",
    "    new_initial_bias = jnp.resize(initial_layer.bias, (new_inital_shape[0],))\n",
    "    new_initial_layer = eqx.nn.Linear(new_inital_shape[1], new_inital_shape[0], key=key)\n",
    "    new_initial_layer = eqx.tree_at(where_weight, new_initial_layer, new_initial_weight)\n",
    "    new_initial_layer = eqx.tree_at(where_bias, new_initial_layer, new_initial_bias)\n",
    "    new_layers.append(new_initial_layer)\n",
    "\n",
    "    # hidden layer(s)\n",
    "    for i, layer in enumerate(mlp.layers[1:-1]):\n",
    "        out_features, in_features = layer.weight.shape\n",
    "        new_shape = (out_features - 1, in_features - 1)\n",
    "        new_weight = jnp.resize(layer.weight, new_shape)\n",
    "        new_bias = jnp.resize(layer.bias, (new_shape[0],))\n",
    "        new_layer = eqx.nn.Linear(new_shape[1], new_shape[0], key=key)\n",
    "        new_layer = eqx.tree_at(where_weight, new_layer, new_weight)\n",
    "        new_layer = eqx.tree_at(where_bias, new_layer, new_bias)\n",
    "        new_layers.append(new_layer)\n",
    "\n",
    "    # final layer\n",
    "    final_layer = mlp.layers[-1]\n",
    "    out_features, in_features = final_layer.weight.shape\n",
    "    new_final_shape = (out_features, in_features - 1)\n",
    "    new_final_weight = jnp.resize(final_layer.weight, new_final_shape)\n",
    "    new_final_bias = jnp.resize(final_layer.bias, (new_final_shape[0],))\n",
    "    new_final_layer = eqx.nn.Linear(new_final_shape[1], new_final_shape[0], key=key)\n",
    "    new_final_layer = eqx.tree_at(where_weight, new_final_layer, new_final_weight)\n",
    "    new_final_layer = eqx.tree_at(where_bias, new_final_layer, new_final_bias)\n",
    "    new_layers.append(new_final_layer)\n",
    "\n",
    "    return Model(new_layers)"
   ]
  },
  {
   "cell_type": "code",
   "execution_count": null,
   "metadata": {},
   "outputs": [],
   "source": [
    "# | test\n",
    "def test_remove_node():\n",
    "    key = random.PRNGKey(0)\n",
    "    layer_sizes = [2, 3, 1]\n",
    "    mlp = MLP(layer_sizes, key)\n",
    "    key, subkey = random.split(key)\n",
    "    new_mlp = remove_node(mlp, subkey)\n",
    "    assert len(new_mlp.layers) == 2\n",
    "    assert new_mlp.layers[0].weight.shape == (2, 2)\n",
    "    assert new_mlp.layers[0].bias.shape == (2,)\n",
    "    assert new_mlp.layers[1].weight.shape == (1, 2)\n",
    "    assert new_mlp.layers[1].bias.shape == (1,)"
   ]
  },
  {
   "cell_type": "code",
   "execution_count": null,
   "metadata": {},
   "outputs": [],
   "source": [
    "# | test\n",
    "test_remove_node()"
   ]
  },
  {
   "cell_type": "code",
   "execution_count": null,
   "metadata": {},
   "outputs": [],
   "source": [
    "# | export\n",
    "\n",
    "\n",
    "@eqx.filter_value_and_grad()\n",
    "def compute_loss(params, x, y):\n",
    "    preds = jax.vmap(params)(x)\n",
    "    return jnp.mean((preds - y) ** 2)"
   ]
  },
  {
   "cell_type": "code",
   "execution_count": null,
   "metadata": {},
   "outputs": [],
   "source": [
    "# | export\n",
    "\n",
    "\n",
    "@eqx.filter_jit\n",
    "def train_step(params, x, y, opt_state, opt_update):\n",
    "    loss, grads = compute_loss(params, x, y)\n",
    "    updates, opt_state = opt_update(grads, opt_state)\n",
    "    params = eqx.apply_updates(params, updates)\n",
    "    return loss, params, opt_state"
   ]
  },
  {
   "cell_type": "code",
   "execution_count": null,
   "metadata": {},
   "outputs": [],
   "source": [
    "# Initialize training data\n",
    "x = jnp.array([[0.0], [1.0], [2.0], [3.0]])\n",
    "y = jnp.array([0.0, 1.0, 4.0, 9.0])"
   ]
  },
  {
   "cell_type": "code",
   "execution_count": null,
   "metadata": {},
   "outputs": [],
   "source": [
    "# Initialize model and optimizer\n",
    "key = PRNGKey(0)\n",
    "layer_sizes = [1, 1]\n",
    "model = MLP(layer_sizes, key)\n",
    "opt = optax.sgd(learning_rate=0.01)\n",
    "opt_state = opt.init(model)"
   ]
  },
  {
   "cell_type": "code",
   "execution_count": null,
   "metadata": {},
   "outputs": [],
   "source": [
    "# Training loop\n",
    "num_epochs = 500\n",
    "add_node_every = 100\n",
    "remove_node_every = 150"
   ]
  },
  {
   "cell_type": "code",
   "execution_count": null,
   "metadata": {},
   "outputs": [
    {
     "name": "stdout",
     "output_type": "stream",
     "text": [
      "Epoch 50, Loss: 14.493556022644043\n",
      "Added node at epoch 100\n",
      "Model reinitialized\n",
      "Epoch 100, Loss: 13.484792709350586\n",
      "Removed node at epoch 150\n",
      "Model reinitialized\n",
      "Epoch 150, Loss: 12.44898796081543\n",
      "Added node at epoch 200\n",
      "Model reinitialized\n",
      "Epoch 200, Loss: 12.36666202545166\n",
      "Epoch 250, Loss: 12.303114891052246\n",
      "Added node at epoch 300\n",
      "Model reinitialized\n",
      "Removed node at epoch 300\n",
      "Model reinitialized\n",
      "Epoch 300, Loss: 12.278339385986328\n",
      "Epoch 350, Loss: 12.263911247253418\n",
      "Added node at epoch 400\n",
      "Model reinitialized\n",
      "Epoch 400, Loss: 12.256312370300293\n",
      "Removed node at epoch 450\n",
      "Model reinitialized\n",
      "Epoch 450, Loss: 12.250673294067383\n",
      "Added node at epoch 500\n",
      "Model reinitialized\n",
      "Epoch 500, Loss: 12.25202465057373\n"
     ]
    }
   ],
   "source": [
    "for epoch in range(num_epochs):\n",
    "    loss, model, opt_state = train_step(model, x, y, opt_state, opt.update)\n",
    "    if (epoch + 1) % add_node_every == 0:\n",
    "        key, subkey = split(key)\n",
    "        model = add_node(model, subkey)\n",
    "        print(f\"Added node at epoch {epoch + 1}\")\n",
    "        opt_state = opt.init(model)\n",
    "        print(\"Model reinitialized\")\n",
    "\n",
    "    if (epoch + 1) % remove_node_every == 0:\n",
    "        key, subkey = split(key)\n",
    "        model = remove_node(model, subkey)\n",
    "        print(f\"Removed node at epoch {epoch + 1}\")\n",
    "        opt_state = opt.init(model)\n",
    "        print(\"Model reinitialized\")\n",
    "\n",
    "    if (epoch + 1) % 50 == 0:\n",
    "        print(f\"Epoch {epoch + 1}, Loss: {loss}\")"
   ]
  },
  {
   "cell_type": "code",
   "execution_count": null,
   "metadata": {},
   "outputs": [],
   "source": [
    "# | hide\n",
    "import nbdev\n",
    "\n",
    "nbdev.nbdev_export()"
   ]
  }
 ],
 "metadata": {
  "kernelspec": {
   "display_name": "python3",
   "language": "python",
   "name": "python3"
  }
 },
 "nbformat": 4,
 "nbformat_minor": 2
}
