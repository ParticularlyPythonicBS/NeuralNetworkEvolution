{
 "cells": [
  {
   "cell_type": "code",
   "execution_count": null,
   "metadata": {},
   "outputs": [],
   "source": [
    "import jax\n",
    "import jax.numpy as jnp\n",
    "import numpy as np\n",
    "import optax\n",
    "import equinox as eqx\n",
    "from jax import random\n",
    "from jax.random import PRNGKey, split\n",
    "from jax import jit, grad\n",
    "import matplotlib.pyplot as plt\n",
    "import matplotlib.cm as cm\n",
    "import matplotlib.colors as colors\n",
    "import matplotlib.style as mplstyle\n",
    "\n",
    "import seaborn as sns\n",
    "\n",
    "from dysts.flows import Lorenz, Rossler\n"
   ]
  },
  {
   "cell_type": "code",
   "execution_count": null,
   "metadata": {},
   "outputs": [],
   "source": [
    "plt.style.use('default')\n",
    "sns.set_theme(context='paper', style='white', palette='icefire', font='serif',\n",
    "            font_scale=1, color_codes=True, rc={'text.usetex' : True})\n",
    "mplstyle.use('fast')"
   ]
  },
  {
   "cell_type": "code",
   "execution_count": null,
   "metadata": {},
   "outputs": [],
   "source": [
    "# jax.config.update(\"jax_enable_x64\", True)\n",
    "# jax.config.update('jax_platform_name', 'cpu')"
   ]
  },
  {
   "cell_type": "code",
   "execution_count": null,
   "metadata": {},
   "outputs": [],
   "source": [
    "# | export\n",
    "\n",
    "class Model(eqx.Module):\n",
    "    layers: list\n",
    "\n",
    "    def __init__(self, layers):\n",
    "        self.layers = layers\n",
    "\n",
    "    def __call__(self, x):\n",
    "        for layer in self.layers[:-1]:\n",
    "            x = jax.nn.tanh(layer(x))\n",
    "        return self.layers[-1](x)"
   ]
  },
  {
   "cell_type": "code",
   "execution_count": null,
   "metadata": {},
   "outputs": [],
   "source": [
    "# | export\n",
    "\n",
    "def MLP(layer_sizes, key):\n",
    "    keys = split(key, len(layer_sizes) - 1)\n",
    "    layers = [\n",
    "        eqx.nn.Linear(in_size, out_size, key=k)\n",
    "        for in_size, out_size, k in zip(layer_sizes[:-1], layer_sizes[1:], keys)\n",
    "    ]\n",
    "    return Model(layers)"
   ]
  },
  {
   "cell_type": "code",
   "execution_count": null,
   "metadata": {},
   "outputs": [],
   "source": [
    "# | export\n",
    "\n",
    "@eqx.filter_value_and_grad()\n",
    "def compute_loss(params, x, y):\n",
    "    preds = jax.vmap(params)(x)\n",
    "    mse = jnp.mean((preds - y) ** 2)\n",
    "    nrmse = jnp.sqrt(mse) / jnp.std(y)\n",
    "    return mse"
   ]
  },
  {
   "cell_type": "code",
   "execution_count": null,
   "metadata": {},
   "outputs": [],
   "source": [
    "# | export\n",
    "\n",
    "@eqx.filter_jit\n",
    "def train_step(params, x, y, opt_state, opt_update):\n",
    "    loss, grads = compute_loss(params, x, y)\n",
    "    updates, opt_state = opt_update(grads, opt_state)\n",
    "    params = eqx.apply_updates(params, updates)\n",
    "    return loss, params, opt_state"
   ]
  },
  {
   "cell_type": "code",
   "execution_count": null,
   "metadata": {},
   "outputs": [],
   "source": [
    "# Compute the gradient norm\n",
    "def grad_norm(grads):\n",
    "    return jnp.sqrt(sum(jnp.sum(jnp.square(p)) for p in jax.tree_util.tree_leaves(grads)))\n"
   ]
  },
  {
   "cell_type": "code",
   "execution_count": null,
   "metadata": {},
   "outputs": [],
   "source": [
    "def generate_data(num_samples):\n",
    "    model = Lorenz()\n",
    "    lorenz = model.make_trajectory(num_samples, resample=True)\n",
    "    x = lorenz[:, 0]\n",
    "    y = lorenz[:, 1]\n",
    "    z = lorenz[:, 2]\n",
    "    # inp = jnp.stack([y, z], axis=1)\n",
    "    # inp = jnp.arange(num_samples).reshape(-1,1)\n",
    "    # inp = y.reshape(-1,1)\n",
    "    inp = jnp.stack([z, y], axis=1)\n",
    "    out = x.reshape(-1,1)\n",
    "    return inp, out"
   ]
  },
  {
   "cell_type": "code",
   "execution_count": null,
   "metadata": {},
   "outputs": [],
   "source": [
    "# def generate_data(num_samples):\n",
    "\n",
    "#     x = jnp.linspace(0, 2 * jnp.pi, num_samples)\n",
    "#     y_sin = 0.5 * jnp.sin(x)\n",
    "#     y_cos = 0.5 * jnp.cos(x)\n",
    "#     # return x.reshape(-1,1), y_sin.reshape(-1,1)\n",
    "#     # return y_sin.reshape(-1, 1), y_cos.reshape(-1, 1)\n",
    "#     return jnp.stack([y_cos, y_cos], axis=1), y_sin.reshape(-1, 1)"
   ]
  },
  {
   "cell_type": "code",
   "execution_count": null,
   "metadata": {},
   "outputs": [
    {
     "name": "stderr",
     "output_type": "stream",
     "text": [
      "2024-06-11 15:24:06.787223: W external/xla/xla/service/gpu/nvptx_compiler.cc:760] The NVIDIA driver's CUDA version is 12.2 which is older than the ptxas CUDA version (12.4.131). Because the driver is older than the ptxas version, XLA is disabling parallel compilation, which may slow down compilation. You should update your NVIDIA driver or use the NVIDIA-provided CUDA forward compatibility packages.\n"
     ]
    }
   ],
   "source": [
    "inp, out = generate_data(1000)"
   ]
  },
  {
   "cell_type": "code",
   "execution_count": null,
   "metadata": {},
   "outputs": [],
   "source": [
    "# plt.figure(figsize=(6,6)).add_subplot(projection='3d')\n",
    "# plt.plot(out, inp[:, 0], inp[:,1], label=\"3d attractor\")"
   ]
  },
  {
   "cell_type": "code",
   "execution_count": null,
   "metadata": {},
   "outputs": [],
   "source": [
    "\n",
    "# plt.plot(inp, label='input')\n",
    "# plt.plot(out, label='output')\n",
    "# plt.legend()"
   ]
  },
  {
   "cell_type": "code",
   "execution_count": null,
   "metadata": {},
   "outputs": [],
   "source": [
    "# Main training function\n",
    "def train_mlp(num_epochs=1000, learning_rate=3e-4):\n",
    "    key = random.PRNGKey(0)\n",
    "    layer_sizes = [2, 64, 64, 1]  # Input layer, two hidden layers, and output layer\n",
    "    model = MLP(layer_sizes, key)\n",
    "    opt = optax.adam(learning_rate)\n",
    "    opt_state = opt.init(model)\n",
    "    loss_history = []\n",
    "\n",
    "    # Generate training data\n",
    "    x_train, y_train = generate_data(5000)\n",
    "\n",
    "    # Training loop\n",
    "    for epoch in range(num_epochs):\n",
    "        loss, model, opt_state = train_step(model, x_train, y_train, opt_state, opt.update)\n",
    "        _, grads  = compute_loss(model, x_train, y_train)\n",
    "        grad_norm_val = grad_norm(grads)\n",
    "        loss_history.append(loss)\n",
    "        if (epoch + 1) % 100 == 0:\n",
    "            print(f'Epoch {epoch + 1}, Loss: {loss}, Grad norm: {grad_norm_val}')\n",
    "\n",
    "    return model, loss_history\n"
   ]
  },
  {
   "cell_type": "code",
   "execution_count": null,
   "metadata": {},
   "outputs": [
    {
     "name": "stdout",
     "output_type": "stream",
     "text": [
      "Epoch 100, Loss: 37.62274932861328, Grad norm: 30.42696762084961\n",
      "Epoch 200, Loss: 25.326705932617188, Grad norm: 16.011293411254883\n",
      "Epoch 300, Loss: 22.81032371520996, Grad norm: 7.087690353393555\n",
      "Epoch 400, Loss: 22.01777458190918, Grad norm: 4.114105224609375\n",
      "Epoch 500, Loss: 21.267915725708008, Grad norm: 3.7032642364501953\n",
      "Epoch 600, Loss: 20.2845458984375, Grad norm: 4.040626525878906\n",
      "Epoch 700, Loss: 18.801124572753906, Grad norm: 5.173031330108643\n",
      "Epoch 800, Loss: 16.466381072998047, Grad norm: 6.065088272094727\n",
      "Epoch 900, Loss: 14.091432571411133, Grad norm: 5.8594069480896\n",
      "Epoch 1000, Loss: 12.283793449401855, Grad norm: 4.910212516784668\n",
      "Epoch 1100, Loss: 11.108295440673828, Grad norm: 3.7805380821228027\n",
      "Epoch 1200, Loss: 10.40351676940918, Grad norm: 2.770050287246704\n",
      "Epoch 1300, Loss: 9.984466552734375, Grad norm: 1.929470181465149\n",
      "Epoch 1400, Loss: 9.759427070617676, Grad norm: 1.327422857284546\n",
      "Epoch 1500, Loss: 9.618982315063477, Grad norm: 1.0390063524246216\n",
      "Epoch 1600, Loss: 9.509028434753418, Grad norm: 0.8483681082725525\n",
      "Epoch 1700, Loss: 9.414287567138672, Grad norm: 0.7486369013786316\n",
      "Epoch 1800, Loss: 9.329015731811523, Grad norm: 0.6867387890815735\n",
      "Epoch 1900, Loss: 9.251201629638672, Grad norm: 0.6104291081428528\n",
      "Epoch 2000, Loss: 9.179237365722656, Grad norm: 0.5644118189811707\n",
      "Epoch 2100, Loss: 9.112274169921875, Grad norm: 0.5315119028091431\n",
      "Epoch 2200, Loss: 9.0498685836792, Grad norm: 0.5806549787521362\n",
      "Epoch 2300, Loss: 8.991846084594727, Grad norm: 0.6117367744445801\n",
      "Epoch 2400, Loss: 8.938106536865234, Grad norm: 0.42000868916511536\n",
      "Epoch 2500, Loss: 8.888387680053711, Grad norm: 0.43148666620254517\n",
      "Epoch 2600, Loss: 8.842286109924316, Grad norm: 0.3610582649707794\n",
      "Epoch 2700, Loss: 8.79944896697998, Grad norm: 0.480753630399704\n",
      "Epoch 2800, Loss: 8.759604454040527, Grad norm: 0.3153412938117981\n",
      "Epoch 2900, Loss: 8.722603797912598, Grad norm: 0.30156707763671875\n",
      "Epoch 3000, Loss: 8.688276290893555, Grad norm: 0.2766129672527313\n",
      "Epoch 3100, Loss: 8.65650749206543, Grad norm: 0.3534591794013977\n",
      "Epoch 3200, Loss: 8.626901626586914, Grad norm: 0.24259541928768158\n",
      "Epoch 3300, Loss: 8.59929084777832, Grad norm: 0.23971611261367798\n",
      "Epoch 3400, Loss: 8.5733060836792, Grad norm: 0.21375872194766998\n",
      "Epoch 3500, Loss: 8.548945426940918, Grad norm: 0.1970161348581314\n",
      "Epoch 3600, Loss: 8.52698802947998, Grad norm: 0.21176156401634216\n",
      "Epoch 3700, Loss: 8.506980895996094, Grad norm: 0.16959282755851746\n",
      "Epoch 3800, Loss: 8.4884672164917, Grad norm: 0.7040918469429016\n",
      "Epoch 3900, Loss: 8.471158027648926, Grad norm: 0.14874759316444397\n",
      "Epoch 4000, Loss: 8.454771041870117, Grad norm: 0.13980919122695923\n",
      "Epoch 4100, Loss: 8.439103126525879, Grad norm: 0.477460116147995\n",
      "Epoch 4200, Loss: 8.424148559570312, Grad norm: 0.12498754262924194\n",
      "Epoch 4300, Loss: 8.409422874450684, Grad norm: 0.11939653009176254\n",
      "Epoch 4400, Loss: 8.394947052001953, Grad norm: 0.1362522691488266\n",
      "Epoch 4500, Loss: 8.38115119934082, Grad norm: 0.10643839836120605\n",
      "Epoch 4600, Loss: 8.368145942687988, Grad norm: 0.30824097990989685\n",
      "Epoch 4700, Loss: 8.355766296386719, Grad norm: 0.09685207903385162\n",
      "Epoch 4800, Loss: 8.343713760375977, Grad norm: 1.711517095565796\n",
      "Epoch 4900, Loss: 8.331610679626465, Grad norm: 0.0959767997264862\n",
      "Epoch 5000, Loss: 8.31931209564209, Grad norm: 0.09602101147174835\n",
      "Epoch 5100, Loss: 8.307040214538574, Grad norm: 0.10270185023546219\n",
      "Epoch 5200, Loss: 8.294917106628418, Grad norm: 0.09326064586639404\n",
      "Epoch 5300, Loss: 8.28286361694336, Grad norm: 1.153759479522705\n",
      "Epoch 5400, Loss: 8.27088451385498, Grad norm: 0.5197772979736328\n",
      "Epoch 5500, Loss: 8.259345054626465, Grad norm: 0.09685778617858887\n",
      "Epoch 5600, Loss: 8.248499870300293, Grad norm: 0.16359812021255493\n",
      "Epoch 5700, Loss: 8.238377571105957, Grad norm: 0.15448026359081268\n",
      "Epoch 5800, Loss: 8.228877067565918, Grad norm: 0.08626560866832733\n",
      "Epoch 5900, Loss: 8.219852447509766, Grad norm: 0.5145288705825806\n",
      "Epoch 6000, Loss: 8.211201667785645, Grad norm: 0.1045825257897377\n",
      "Epoch 6100, Loss: 8.202832221984863, Grad norm: 0.07978330552577972\n",
      "Epoch 6200, Loss: 8.194443702697754, Grad norm: 2.3171050548553467\n",
      "Epoch 6300, Loss: 8.185568809509277, Grad norm: 0.07043176144361496\n",
      "Epoch 6400, Loss: 8.176916122436523, Grad norm: 0.08477959781885147\n",
      "Epoch 6500, Loss: 8.168122291564941, Grad norm: 0.07604146003723145\n",
      "Epoch 6600, Loss: 8.158821105957031, Grad norm: 0.07070698589086533\n",
      "Epoch 6700, Loss: 8.148587226867676, Grad norm: 0.06825096905231476\n",
      "Epoch 6800, Loss: 8.137619972229004, Grad norm: 0.19239458441734314\n",
      "Epoch 6900, Loss: 8.126185417175293, Grad norm: 0.0684736967086792\n",
      "Epoch 7000, Loss: 8.114380836486816, Grad norm: 0.4130878150463104\n",
      "Epoch 7100, Loss: 8.102267265319824, Grad norm: 0.06823764741420746\n",
      "Epoch 7200, Loss: 8.089944839477539, Grad norm: 0.10532232373952866\n",
      "Epoch 7300, Loss: 8.077545166015625, Grad norm: 0.06708607077598572\n",
      "Epoch 7400, Loss: 8.065117835998535, Grad norm: 1.063476324081421\n",
      "Epoch 7500, Loss: 8.052721977233887, Grad norm: 0.06477473676204681\n",
      "Epoch 7600, Loss: 8.04067325592041, Grad norm: 2.3886067867279053\n",
      "Epoch 7700, Loss: 8.02817153930664, Grad norm: 0.061858948320150375\n",
      "Epoch 7800, Loss: 8.016128540039062, Grad norm: 0.06533293426036835\n",
      "Epoch 7900, Loss: 8.004494667053223, Grad norm: 0.08351840823888779\n",
      "Epoch 8000, Loss: 7.993352890014648, Grad norm: 0.05552725866436958\n",
      "Epoch 8100, Loss: 7.982860565185547, Grad norm: 0.06295622140169144\n",
      "Epoch 8200, Loss: 7.973002910614014, Grad norm: 0.05044751986861229\n",
      "Epoch 8300, Loss: 7.963740348815918, Grad norm: 0.2635408043861389\n",
      "Epoch 8400, Loss: 7.955073833465576, Grad norm: 0.045361023396253586\n",
      "Epoch 8500, Loss: 7.946882724761963, Grad norm: 1.0705602169036865\n",
      "Epoch 8600, Loss: 7.939101219177246, Grad norm: 0.05609923601150513\n",
      "Epoch 8700, Loss: 7.931596755981445, Grad norm: 0.04174095019698143\n",
      "Epoch 8800, Loss: 7.924328804016113, Grad norm: 0.03995104879140854\n",
      "Epoch 8900, Loss: 7.917225360870361, Grad norm: 0.038386449217796326\n",
      "Epoch 9000, Loss: 7.910109043121338, Grad norm: 0.5499706864356995\n",
      "Epoch 9100, Loss: 7.902812480926514, Grad norm: 0.04233867675065994\n",
      "Epoch 9200, Loss: 7.896139621734619, Grad norm: 0.049462929368019104\n",
      "Epoch 9300, Loss: 7.889610767364502, Grad norm: 0.03611622378230095\n",
      "Epoch 9400, Loss: 7.88283109664917, Grad norm: 0.12016402930021286\n",
      "Epoch 9500, Loss: 7.875831604003906, Grad norm: 0.034538690000772476\n",
      "Epoch 9600, Loss: 7.868679523468018, Grad norm: 0.8405213356018066\n",
      "Epoch 9700, Loss: 7.861368656158447, Grad norm: 0.03655535727739334\n",
      "Epoch 9800, Loss: 7.853991985321045, Grad norm: 2.712956428527832\n",
      "Epoch 9900, Loss: 7.845746040344238, Grad norm: 0.036238037049770355\n",
      "Epoch 10000, Loss: 7.83632230758667, Grad norm: 0.20918624103069305\n"
     ]
    }
   ],
   "source": [
    "model, loss_history = train_mlp(num_epochs=10000)\n",
    "n_nodes = model.layers[0].in_features + sum([layer.out_features for layer in model.layers]) \n",
    "node_history = [n_nodes] * len(loss_history)"
   ]
  },
  {
   "cell_type": "code",
   "execution_count": null,
   "metadata": {},
   "outputs": [
    {
     "data": {
      "image/png": "[encoded data removed]",
      "text/plain": [
       "<Figure size 1200x800 with 2 Axes>"
      ]
     },
     "metadata": {},
     "output_type": "display_data"
    }
   ],
   "source": [
    "fig, ax1 = plt.subplots(figsize=(12, 8))\n",
    "num_epochs = len(loss_history)\n",
    "color = 'tab:red'\n",
    "ax1.set_xlabel('Epochs')\n",
    "ax1.set_ylabel('Loss', color=color)\n",
    "ax1.plot(np.arange(0,num_epochs), loss_history, color=color)\n",
    "ax1.tick_params(axis='y', labelcolor=color)\n",
    "ax1.set_yscale(\"log\")\n",
    "\n",
    "ax2 = ax1.twinx()  # instantiate a second axes that shares the same x-axis\n",
    "\n",
    "color = 'tab:blue'\n",
    "ax2.set_ylabel('Number of Nodes', color=color)  # we already handled the x-label with ax1\n",
    "ax2.plot(np.arange(0,num_epochs), node_history, color=color)\n",
    "ax2.tick_params(axis='y', labelcolor=color)\n",
    "plt.suptitle(\"Training a conventional fully connected neural network\")\n",
    "fig.tight_layout()"
   ]
  },
  {
   "cell_type": "code",
   "execution_count": null,
   "metadata": {},
   "outputs": [],
   "source": [
    "# Evaluate the trained model\n",
    "def evaluate_mlp(model):\n",
    "    x_test, y_test = generate_data(100)\n",
    "    y_pred = jax.vmap(model)(x_test)\n",
    "    return x_test, y_test, y_pred"
   ]
  },
  {
   "cell_type": "code",
   "execution_count": null,
   "metadata": {},
   "outputs": [],
   "source": [
    "x_test, y_test, y_pred = evaluate_mlp(model)"
   ]
  },
  {
   "cell_type": "code",
   "execution_count": null,
   "metadata": {},
   "outputs": [],
   "source": [
    "# Plot the results\n",
    "def plot_results(x, y_true, y_pred):\n",
    "    plt.axes().set_aspect('equal')\n",
    "    plt.plot(x, y_true, \".\" ,label='True sin(x)')\n",
    "    plt.plot(x, y_pred, \".\" ,label='Predicted sin(x)')\n",
    "    \n",
    "    plt.legend()\n",
    "    plt.show()"
   ]
  },
  {
   "cell_type": "code",
   "execution_count": null,
   "metadata": {},
   "outputs": [
    {
     "data": {
      "image/png": "[encoded data removed]",
      "text/plain": [
       "<Figure size 640x480 with 1 Axes>"
      ]
     },
     "metadata": {},
     "output_type": "display_data"
    }
   ],
   "source": [
    "plot_results(x_test, y_test, y_pred)"
   ]
  },
  {
   "cell_type": "code",
   "execution_count": null,
   "metadata": {},
   "outputs": [],
   "source": []
  }
 ],
 "metadata": {
  "kernelspec": {
   "display_name": "python3",
   "language": "python",
   "name": "python3"
  }
 },
 "nbformat": 4,
 "nbformat_minor": 2
}
