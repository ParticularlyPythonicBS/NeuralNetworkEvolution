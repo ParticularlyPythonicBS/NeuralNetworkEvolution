{
 "cells": [
  {
   "cell_type": "markdown",
   "metadata": {},
   "source": [
    "# Config\n",
    "> Configuration files for creating and testing MLPS"
   ]
  },
  {
   "cell_type": "code",
   "execution_count": null,
   "metadata": {},
   "outputs": [],
   "source": [
    "#| default_exp config"
   ]
  },
  {
   "cell_type": "code",
   "execution_count": null,
   "metadata": {},
   "outputs": [],
   "source": [
    "#| export\n",
    "import pickle\n",
    "from dataclasses import dataclass\n",
    "from NeuralNetworkEvolution.activations import identity\n"
   ]
  },
  {
   "cell_type": "code",
   "execution_count": null,
   "metadata": {},
   "outputs": [],
   "source": [
    "#| export\n",
    "@dataclass\n",
    "class MLPConfig:\n",
    "    seed: int\n",
    "    input_size: int\n",
    "    hidden_sizes: list\n",
    "    output_size: int\n",
    "    initial_activation_list: list\n",
    "    last_activation: callable = identity\n",
    "    bias: bool = False\n",
    "\n",
    "    def save(self, filename):\n",
    "        # Replace functions in activation_list with their names\n",
    "        activation_names = [f.__name__ for f in self.initial_activation_list]\n",
    "        last_activation_name = self.last_activation.__name__\n",
    "        with open(filename, 'wb') as f:\n",
    "            pickle.dump((self.seed, self.input_size, self.hidden_sizes,\n",
    "                        self.output_size, activation_names, last_activation_name, self.bias), f)\n",
    "    \n",
    "    @classmethod\n",
    "    def load(cls, filename, activation_functions):\n",
    "        # Map function names back to actual functions\n",
    "        name_to_function = {f.__name__: f for f in activation_functions}\n",
    "        with open(filename, 'rb') as f:\n",
    "            seed, input_size, hidden_sizes, output_size, activation_names, last_activation_name, bias = pickle.load(f)\n",
    "        initial_activation_list = [name_to_function[name] for name in activation_names]\n",
    "        last_activation = name_to_function[last_activation_name]\n",
    "        return cls(seed, input_size, hidden_sizes, output_size, initial_activation_list, last_activation, bias)"
   ]
  },
  {
   "cell_type": "code",
   "execution_count": null,
   "metadata": {},
   "outputs": [],
   "source": [
    "#| hide\n",
    "import nbdev; nbdev.nbdev_export()"
   ]
  }
 ],
 "metadata": {
  "kernelspec": {
   "display_name": "python3",
   "language": "python",
   "name": "python3"
  }
 },
 "nbformat": 4,
 "nbformat_minor": 2
}
