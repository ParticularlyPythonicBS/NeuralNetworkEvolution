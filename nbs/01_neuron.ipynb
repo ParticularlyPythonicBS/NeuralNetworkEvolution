{
 "cells": [
  {
   "cell_type": "markdown",
   "metadata": {},
   "source": [
    "# Neuron\n",
    "\n",
    "> Neuron with activation function included to create neural networks with individual neuron activations"
   ]
  },
  {
   "cell_type": "code",
   "execution_count": null,
   "metadata": {},
   "outputs": [],
   "source": [
    "#| default_exp neuron"
   ]
  },
  {
   "cell_type": "code",
   "execution_count": null,
   "metadata": {},
   "outputs": [],
   "source": [
    "#| hide\n",
    "from nbdev.showdoc import *"
   ]
  },
  {
   "cell_type": "code",
   "execution_count": null,
   "metadata": {},
   "outputs": [],
   "source": [
    "#| export\n",
    "import jax\n",
    "import jax.numpy as jnp\n",
    "import equinox as eqx"
   ]
  },
  {
   "cell_type": "code",
   "execution_count": null,
   "metadata": {},
   "outputs": [],
   "source": [
    "#| export\n",
    "class Neuron(eqx.Module):\n",
    "    \"\"\"\n",
    "    A simple neuron with a weight vector, bias, and activation function.\n",
    "    \"\"\"\n",
    "    weight: jax.Array\n",
    "    bias: jax.Array\n",
    "    activation: callable\n",
    "\n",
    "    def __init__(self, in_features, activation=jax.nn.relu, key=None):\n",
    "        if key is None:\n",
    "            key = jax.random.PRNGKey(0)\n",
    "            key, _ = jax.random.split(key)\n",
    "        w_key, b_key = jax.random.split(key)\n",
    "        self.weight = jax.random.normal(w_key, (in_features,))\n",
    "        self.bias = jax.random.normal(b_key, ())\n",
    "\n",
    "        self.activation = activation\n",
    "\n",
    "    def __call__(self, x):\n",
    "        return self.activation(jnp.dot(self.weight, x) + self.bias)\n",
    "    \n",
    "    def importance(self):\n",
    "        \"\"\"\n",
    "        Returns the importance of the neuron. This is the L2 norm of the weight vector.\n",
    "        \"\"\"\n",
    "        return jnp.linalg.norm(self.weight)/jnp.sqrt(self.weight.size)"
   ]
  },
  {
   "cell_type": "code",
   "execution_count": null,
   "metadata": {},
   "outputs": [],
   "source": [
    "#| test \n",
    "neuron = Neuron(10)\n",
    "x = jax.random.normal(jax.random.PRNGKey(0), (10,))\n",
    "y = neuron(x)\n",
    "assert y.shape == ()\n",
    "assert neuron.importance().shape == ()\n"
   ]
  },
  {
   "cell_type": "code",
   "execution_count": null,
   "metadata": {},
   "outputs": [],
   "source": [
    "#| hide\n",
    "import nbdev; nbdev.nbdev_export()"
   ]
  }
 ],
 "metadata": {
  "kernelspec": {
   "display_name": "python3",
   "language": "python",
   "name": "python3"
  }
 },
 "nbformat": 4,
 "nbformat_minor": 2
}
